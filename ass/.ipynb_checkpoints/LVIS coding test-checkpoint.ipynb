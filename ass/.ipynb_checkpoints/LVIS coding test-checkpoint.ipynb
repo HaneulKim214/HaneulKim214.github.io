{
 "cells": [
  {
   "cell_type": "markdown",
   "metadata": {},
   "source": [
    "goal: find out how many days it will take for all tomatoes to ripen\n",
    "- unripe tomatoes become ripe the next day when they are beside ripe tomatoes"
   ]
  },
  {
   "cell_type": "markdown",
   "metadata": {},
   "source": [
    "Steps:\n",
    "1. Find all ripe positions, empty positions\n",
    "2. if empty position spans full diagonal return -1\n",
    "3. for each full loop on inital ripe position list day += 1, for each ripe position its adjacent becomes ripe positions\n",
    "4. repeat step 3 until no more ripe positions can be added and return number of full loop"
   ]
  },
  {
   "cell_type": "code",
   "execution_count": 42,
   "metadata": {},
   "outputs": [],
   "source": [
    "def DaysTillRipe(M,N, tomatoes):\n",
    "    \"\"\"Given MxN boxes containing tomatoes return number of days it will take for all toamtes to ripen\"\"\"\n",
    "    \n",
    "    ripe_positions = []\n",
    "    for idx, row in enumerate(tomatoes):\n",
    "        ripe_row = [i for i, tomato in enumerate(row) if tomato == 1]\n",
    "        empty_row = [i for i, tomato in enumerate(row) if tomato == -1]\n",
    "\n",
    "        for pos in ripe_row:\n",
    "            ripe_positions.append([idx+1, pos+1])\n",
    "            \n",
    "    print(ripe_positions)"
   ]
  },
  {
   "cell_type": "code",
   "execution_count": 44,
   "metadata": {},
   "outputs": [],
   "source": [
    "ripe_positions = [[4,6]]"
   ]
  },
  {
   "cell_type": "code",
   "execution_count": 45,
   "metadata": {},
   "outputs": [
    {
     "name": "stdout",
     "output_type": "stream",
     "text": [
      "[4, 6]\n"
     ]
    }
   ],
   "source": [
    "for pos in ripe_positions:\n",
    "    "
   ]
  },
  {
   "cell_type": "code",
   "execution_count": 53,
   "metadata": {},
   "outputs": [],
   "source": [
    "ripe_positions = []\n",
    "empty_positions = []\n",
    "for idx, row in enumerate(tomatoes):\n",
    "    ripe_row = [i for i, tomato in enumerate(row) if tomato == 1]\n",
    "    empty_row = [i for i, tomato in enumerate(row) if tomato == -1]\n",
    "\n",
    "    for pos in ripe_row:\n",
    "        ripe_positions.append([idx+1, pos+1])\n",
    "        \n",
    "    for pos in empty_row:\n",
    "        empty_positions.append([idx+1, pos+1])"
   ]
  },
  {
   "cell_type": "code",
   "execution_count": 69,
   "metadata": {},
   "outputs": [
    {
     "name": "stdout",
     "output_type": "stream",
     "text": [
      "[1, 2]\n",
      "[2, 1]\n",
      "d\n"
     ]
    }
   ],
   "source": [
    "def CheckDiagonalEmpty(empty_positions):\n",
    "    for idx, i in enumerate(empty_positions):\n",
    "        for j in empty_positions[idx+1:]:\n",
    "            if [i[0], i[1]] == [j[1], j[0]]:\n",
    "                return -1\n",
    "        "
   ]
  },
  {
   "cell_type": "code",
   "execution_count": 67,
   "metadata": {},
   "outputs": [
    {
     "data": {
      "text/plain": [
       "[2, 1]"
      ]
     },
     "execution_count": 67,
     "metadata": {},
     "output_type": "execute_result"
    }
   ],
   "source": [
    "i"
   ]
  },
  {
   "cell_type": "code",
   "execution_count": 68,
   "metadata": {},
   "outputs": [
    {
     "data": {
      "text/plain": [
       "[2, 1]"
      ]
     },
     "execution_count": 68,
     "metadata": {},
     "output_type": "execute_result"
    }
   ],
   "source": [
    "j"
   ]
  },
  {
   "cell_type": "code",
   "execution_count": 54,
   "metadata": {},
   "outputs": [
    {
     "data": {
      "text/plain": [
       "[[1, 2], [2, 1]]"
      ]
     },
     "execution_count": 54,
     "metadata": {},
     "output_type": "execute_result"
    }
   ],
   "source": [
    "empty_positions"
   ]
  },
  {
   "cell_type": "code",
   "execution_count": 52,
   "metadata": {},
   "outputs": [],
   "source": [
    "tomatoes = [[0,-1,0,0,0,0],\n",
    "           [-1,0,0,0,0,0],\n",
    "           [0,0,0,0,0,0],\n",
    "           [0,0,0,0,0,1]]"
   ]
  },
  {
   "cell_type": "code",
   "execution_count": null,
   "metadata": {},
   "outputs": [],
   "source": [
    "def RipeAdjacent(ripe_positions):\n",
    "    "
   ]
  },
  {
   "cell_type": "code",
   "execution_count": 43,
   "metadata": {},
   "outputs": [
    {
     "name": "stdout",
     "output_type": "stream",
     "text": [
      "[[4, 6]]\n"
     ]
    }
   ],
   "source": [
    "DaysTillRipe(6,4, [[0,0,0,0,0,0],\n",
    "                   [0,0,0,0,0,0],\n",
    "                   [0,0,0,0,0,0],\n",
    "                   [0,0,0,0,0,1]])"
   ]
  }
 ],
 "metadata": {
  "kernelspec": {
   "display_name": "Python 3",
   "language": "python",
   "name": "python3"
  },
  "language_info": {
   "codemirror_mode": {
    "name": "ipython",
    "version": 3
   },
   "file_extension": ".py",
   "mimetype": "text/x-python",
   "name": "python",
   "nbconvert_exporter": "python",
   "pygments_lexer": "ipython3",
   "version": "3.7.3"
  },
  "toc": {
   "base_numbering": 1,
   "nav_menu": {},
   "number_sections": true,
   "sideBar": true,
   "skip_h1_title": false,
   "title_cell": "Table of Contents",
   "title_sidebar": "Contents",
   "toc_cell": false,
   "toc_position": {},
   "toc_section_display": true,
   "toc_window_display": false
  }
 },
 "nbformat": 4,
 "nbformat_minor": 4
}
