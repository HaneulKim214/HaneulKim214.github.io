{
 "cells": [
  {
   "cell_type": "code",
   "execution_count": 1,
   "metadata": {},
   "outputs": [],
   "source": [
    "import matplotlib.pyplot as plt\n",
    "import numpy as np\n",
    "import pandas as pd\n",
    "import plotly.graph_objects as go\n",
    "import seaborn as sns\n",
    "\n",
    "from plotly.subplots import make_subplots"
   ]
  },
  {
   "cell_type": "code",
   "execution_count": 116,
   "metadata": {},
   "outputs": [],
   "source": [
    "plt.rcParams['font.family'] = 'Malgun Gothic'"
   ]
  },
  {
   "cell_type": "code",
   "execution_count": 4,
   "metadata": {},
   "outputs": [],
   "source": [
    "df_users = pd.read_csv(\"[뱅크샐러드] DS 사전과제 Dataset/df_users.csv\")\n",
    "df_user_visits = pd.read_csv(\"[뱅크샐러드] DS 사전과제 Dataset/df_user_visits.csv\")"
   ]
  },
  {
   "cell_type": "code",
   "execution_count": 5,
   "metadata": {},
   "outputs": [
    {
     "data": {
      "text/html": [
       "<div>\n",
       "<style scoped>\n",
       "    .dataframe tbody tr th:only-of-type {\n",
       "        vertical-align: middle;\n",
       "    }\n",
       "\n",
       "    .dataframe tbody tr th {\n",
       "        vertical-align: top;\n",
       "    }\n",
       "\n",
       "    .dataframe thead th {\n",
       "        text-align: right;\n",
       "    }\n",
       "</style>\n",
       "<table border=\"1\" class=\"dataframe\">\n",
       "  <thead>\n",
       "    <tr style=\"text-align: right;\">\n",
       "      <th></th>\n",
       "      <th>count</th>\n",
       "      <th>unique</th>\n",
       "      <th>top</th>\n",
       "      <th>freq</th>\n",
       "      <th>dtypes</th>\n",
       "    </tr>\n",
       "  </thead>\n",
       "  <tbody>\n",
       "    <tr>\n",
       "      <th>user_uuid</th>\n",
       "      <td>328473</td>\n",
       "      <td>328473</td>\n",
       "      <td>00b490a4421320e41162cc815361b1b5</td>\n",
       "      <td>1</td>\n",
       "      <td>object</td>\n",
       "    </tr>\n",
       "    <tr>\n",
       "      <th>carrier</th>\n",
       "      <td>328473</td>\n",
       "      <td>3</td>\n",
       "      <td>초록</td>\n",
       "      <td>147724</td>\n",
       "      <td>object</td>\n",
       "    </tr>\n",
       "    <tr>\n",
       "      <th>group</th>\n",
       "      <td>328473</td>\n",
       "      <td>2</td>\n",
       "      <td>group_1</td>\n",
       "      <td>223634</td>\n",
       "      <td>object</td>\n",
       "    </tr>\n",
       "    <tr>\n",
       "      <th>app_version_joined</th>\n",
       "      <td>328473</td>\n",
       "      <td>2</td>\n",
       "      <td>spencer</td>\n",
       "      <td>186944</td>\n",
       "      <td>object</td>\n",
       "    </tr>\n",
       "    <tr>\n",
       "      <th>date_joined</th>\n",
       "      <td>328473</td>\n",
       "      <td>108</td>\n",
       "      <td>2030-04-30</td>\n",
       "      <td>33095</td>\n",
       "      <td>object</td>\n",
       "    </tr>\n",
       "  </tbody>\n",
       "</table>\n",
       "</div>"
      ],
      "text/plain": [
       "                     count  unique                               top    freq  \\\n",
       "user_uuid           328473  328473  00b490a4421320e41162cc815361b1b5       1   \n",
       "carrier             328473       3                                초록  147724   \n",
       "group               328473       2                           group_1  223634   \n",
       "app_version_joined  328473       2                           spencer  186944   \n",
       "date_joined         328473     108                        2030-04-30   33095   \n",
       "\n",
       "                    dtypes  \n",
       "user_uuid           object  \n",
       "carrier             object  \n",
       "group               object  \n",
       "app_version_joined  object  \n",
       "date_joined         object  "
      ]
     },
     "execution_count": 5,
     "metadata": {},
     "output_type": "execute_result"
    }
   ],
   "source": [
    "df_users.describe().T.join(pd.DataFrame(df_users.dtypes)).rename(columns={0:\"dtypes\"})"
   ]
  },
  {
   "cell_type": "code",
   "execution_count": 6,
   "metadata": {},
   "outputs": [
    {
     "data": {
      "text/html": [
       "<div>\n",
       "<style scoped>\n",
       "    .dataframe tbody tr th:only-of-type {\n",
       "        vertical-align: middle;\n",
       "    }\n",
       "\n",
       "    .dataframe tbody tr th {\n",
       "        vertical-align: top;\n",
       "    }\n",
       "\n",
       "    .dataframe thead th {\n",
       "        text-align: right;\n",
       "    }\n",
       "</style>\n",
       "<table border=\"1\" class=\"dataframe\">\n",
       "  <thead>\n",
       "    <tr style=\"text-align: right;\">\n",
       "      <th></th>\n",
       "      <th>count</th>\n",
       "      <th>mean</th>\n",
       "      <th>std</th>\n",
       "      <th>min</th>\n",
       "      <th>25%</th>\n",
       "      <th>50%</th>\n",
       "      <th>75%</th>\n",
       "      <th>max</th>\n",
       "      <th>dtypes</th>\n",
       "    </tr>\n",
       "  </thead>\n",
       "  <tbody>\n",
       "    <tr>\n",
       "      <th>visits</th>\n",
       "      <td>328473.0</td>\n",
       "      <td>9.113821</td>\n",
       "      <td>9.509663</td>\n",
       "      <td>0.000000</td>\n",
       "      <td>2.000000</td>\n",
       "      <td>6.000000</td>\n",
       "      <td>13.000000</td>\n",
       "      <td>116.000000</td>\n",
       "      <td>int64</td>\n",
       "    </tr>\n",
       "    <tr>\n",
       "      <th>sum_time_to_interactive</th>\n",
       "      <td>328473.0</td>\n",
       "      <td>36.384233</td>\n",
       "      <td>52.988051</td>\n",
       "      <td>0.000000</td>\n",
       "      <td>5.850964</td>\n",
       "      <td>18.137140</td>\n",
       "      <td>45.339411</td>\n",
       "      <td>1190.792778</td>\n",
       "      <td>float64</td>\n",
       "    </tr>\n",
       "    <tr>\n",
       "      <th>avg_time_to_interactive</th>\n",
       "      <td>298806.0</td>\n",
       "      <td>3.998612</td>\n",
       "      <td>2.827580</td>\n",
       "      <td>0.004151</td>\n",
       "      <td>1.921255</td>\n",
       "      <td>3.351198</td>\n",
       "      <td>5.385305</td>\n",
       "      <td>29.468102</td>\n",
       "      <td>float64</td>\n",
       "    </tr>\n",
       "  </tbody>\n",
       "</table>\n",
       "</div>"
      ],
      "text/plain": [
       "                            count       mean        std       min       25%  \\\n",
       "visits                   328473.0   9.113821   9.509663  0.000000  2.000000   \n",
       "sum_time_to_interactive  328473.0  36.384233  52.988051  0.000000  5.850964   \n",
       "avg_time_to_interactive  298806.0   3.998612   2.827580  0.004151  1.921255   \n",
       "\n",
       "                               50%        75%          max   dtypes  \n",
       "visits                    6.000000  13.000000   116.000000    int64  \n",
       "sum_time_to_interactive  18.137140  45.339411  1190.792778  float64  \n",
       "avg_time_to_interactive   3.351198   5.385305    29.468102  float64  "
      ]
     },
     "execution_count": 6,
     "metadata": {},
     "output_type": "execute_result"
    }
   ],
   "source": [
    "df_user_visits.describe().T.join(pd.DataFrame(df_user_visits.dtypes)).rename(columns={0:\"dtypes\"})"
   ]
  },
  {
   "cell_type": "markdown",
   "metadata": {},
   "source": [
    "# Feature engineering"
   ]
  },
  {
   "cell_type": "code",
   "execution_count": 7,
   "metadata": {},
   "outputs": [],
   "source": [
    "df_users[\"date_joined\"] = pd.to_datetime(df_users[\"date_joined\"])\n",
    "df_user_visits[\"avg_time_to_interactive\"] = df_user_visits[\"avg_time_to_interactive\"].fillna(0)"
   ]
  },
  {
   "cell_type": "code",
   "execution_count": null,
   "metadata": {},
   "outputs": [],
   "source": [
    "joined_df = pd.merge(df_users, df_user_visits, left_on=\"user_uuid\", right_on=\"user_uuid\")\n",
    "\n",
    "joined_df[\"year_month_joined\"]= joined_df[\"date_joined\"].dt.to_period(\"M\")\n",
    "joined_df[\"dayofweek_joined\"] = joined_df[\"date_joined\"].dt.dayofweek # monday = 0 \n",
    "\n",
    "joined_df.set_index(\"date_joined\", inplace=True)\n",
    "joined_df.sort_index(inplace=True)"
   ]
  },
  {
   "cell_type": "markdown",
   "metadata": {},
   "source": [
    "group_1 의 모든 사용자의 방문횟수가 group_2보다 2배정도 많은데 애초에 사용자수가 2배 많음.\n",
    "- 인당 평균 방문수는 비슷.\n",
    "- visit 0 인 사람도 대략 group_1 = 2group_2, 그룹 사이즈의 차이로 보임. -> 어느 한 그룹이 visit 0 의 영향이 없음."
   ]
  },
  {
   "cell_type": "markdown",
   "metadata": {},
   "source": [
    "# 사용자 그룹 간 앱 방문 비교 분석"
   ]
  },
  {
   "cell_type": "markdown",
   "metadata": {},
   "source": [
    "## group_1 과 group_2 의 사용자 방문 수의 차이가 있는지 검증"
   ]
  },
  {
   "cell_type": "code",
   "execution_count": null,
   "metadata": {},
   "outputs": [],
   "source": [
    "joined_df.groupby([\"group\"]).agg({\n",
    "    \"visits\":{\"count\", sum, np.mean,np.median, np.std, min, max},\n",
    "    \"avg_time_to_interactive\":{np.mean, np.median, np.std, min, max}\n",
    "})"
   ]
  },
  {
   "cell_type": "markdown",
   "metadata": {},
   "source": [
    "아래 Histogram 을 보면 그륩별 방문 수 분포는 비슷한 shape 을 그리고 있습니다."
   ]
  },
  {
   "cell_type": "code",
   "execution_count": null,
   "metadata": {},
   "outputs": [],
   "source": [
    "group1 = joined_df.loc[joined_df[\"group\"] == \"group_1\"].copy()\n",
    "group2 = joined_df.loc[joined_df[\"group\"] == \"group_2\"].copy()\n",
    "\n",
    "fig = make_subplots(\n",
    "    rows=2, cols=1,\n",
    "    subplot_titles=[\"group1\", \"group2\"]    \n",
    ")\n",
    "\n",
    "fig.add_trace(\n",
    "    go.Histogram(\n",
    "        name = \"group1\",\n",
    "        x = group1[\"visits\"]\n",
    "    ), row=1, col=1\n",
    ")\n",
    "fig.add_trace(\n",
    "    go.Histogram(\n",
    "        name = \"group2\",\n",
    "        x = group2[\"visits\"]\n",
    "    ), row=2, col=1\n",
    ")\n",
    "\n",
    "fig.update_layout(\n",
    "    title = \"group 별 방문 수 분포\"\n",
    ")\n",
    "fig.show()"
   ]
  },
  {
   "cell_type": "code",
   "execution_count": null,
   "metadata": {},
   "outputs": [],
   "source": [
    "group1_sample = group1.sample(100)\n",
    "group2_sample = group2.sample(100)"
   ]
  },
  {
   "cell_type": "code",
   "execution_count": null,
   "metadata": {},
   "outputs": [],
   "source": [
    "print(f\"group1_sample mean    = {group1_sample['visits'].mean()}\")\n",
    "print(f\"group1_sample std_dev = {group1_sample['visits'].std()}\")"
   ]
  },
  {
   "cell_type": "code",
   "execution_count": null,
   "metadata": {},
   "outputs": [],
   "source": [
    "print(f\"group2_sample mean    = {group2_sample['visits'].mean()}\")\n",
    "print(f\"group2_sample std_dev = {group2_sample['visits'].std()}\")"
   ]
  },
  {
   "cell_type": "markdown",
   "metadata": {},
   "source": [
    "## 그룹별 통신사별 방문 수 차이"
   ]
  },
  {
   "cell_type": "markdown",
   "metadata": {},
   "source": [
    "group1 과 group2의 사용자 방문 수의 차이가 통신사 별로 다른지? -> ex: A 통신사를 쓰는 group1는 A통신사를 쓰는 grouop2 사용자보다 방문 수가 많은가?"
   ]
  },
  {
   "cell_type": "code",
   "execution_count": null,
   "metadata": {},
   "outputs": [],
   "source": [
    "joined_df.groupby([\"carrier\", \"group\"]).agg({\n",
    "    \"visits\":{\"count\", sum, np.mean, np.std, min, max},\n",
    "    \"avg_time_to_interactive\":{np.mean, np.median, np.std, min, max}\n",
    "})"
   ]
  },
  {
   "cell_type": "markdown",
   "metadata": {},
   "source": [
    "### 그룹별 통신사별 방문 수 분포"
   ]
  },
  {
   "cell_type": "code",
   "execution_count": null,
   "metadata": {},
   "outputs": [],
   "source": [
    "carriers = [\"노랑\", \"보라\", \"초록\"]\n",
    "groups   = [\"group_1\", \"group_2\"]\n",
    "\n",
    "df_dict = {}\n",
    "for carrier in carriers:\n",
    "    for group in groups:\n",
    "        df = joined_df.loc[(joined_df[\"carrier\"] == carrier) &\n",
    "                           (joined_df[\"group\"] == group)].copy()\n",
    "        df_dict[carrier +\"_\"+ group] = df"
   ]
  },
  {
   "cell_type": "code",
   "execution_count": null,
   "metadata": {
    "scrolled": false
   },
   "outputs": [],
   "source": [
    "fig = make_subplots(\n",
    "    rows=3, \n",
    "    cols=2,\n",
    "    subplot_titles=list(df_dict.keys())\n",
    ")\n",
    "\n",
    "for idx, (name, df) in enumerate(df_dict.items()):\n",
    "    fig.add_trace(\n",
    "        go.Histogram(\n",
    "            name = name,\n",
    "            x = df[\"visits\"]\n",
    "        ),\n",
    "        row=(idx//2)+1, col= (idx%2)+1\n",
    "    )\n",
    "    fig.update_xaxes(range=[0,100])\n",
    "    \n",
    "fig.update_layout(\n",
    "    title = \"통신사별_group별 방문 수 분포\"\n",
    ")\n",
    "\n",
    "fig.show()"
   ]
  },
  {
   "cell_type": "markdown",
   "metadata": {},
   "source": [
    "### 가설검증"
   ]
  },
  {
   "cell_type": "code",
   "execution_count": null,
   "metadata": {},
   "outputs": [],
   "source": [
    "# def TestDifference(carrier_name, n, c, g1, g2):\n",
    "    "
   ]
  },
  {
   "cell_type": "code",
   "execution_count": null,
   "metadata": {},
   "outputs": [],
   "source": [
    "# for carrier in [\"노랑\", \"보라\", \"초록\"]:\n",
    "#     carrier_df = joined_df.loc[joined_df[\"carrier\"] == carrier].copy()\n",
    "    \n",
    "#     g1 = carrier_df.loc[carrier_df[\"group\"] == \"group_1\"].sample(100).copy()\n",
    "#     g2 = carrier_df.loc[carrier_df[\"group\"] == \"group_2\"].sample(100).copy()\n",
    "    \n",
    "#     TestDifference(n, 0.)"
   ]
  },
  {
   "cell_type": "code",
   "execution_count": null,
   "metadata": {},
   "outputs": [],
   "source": [
    "n = 100\n",
    "\n",
    "for name, df in df_dict.items():\n",
    "    sample = df.sample(100)\n",
    "    print(f\"{name} mean    = {sample['visits'].mean()}\")\n",
    "    print(f\"{name} std_dev = {sample['visits'].std()}\")\n",
    "    print(\"\")"
   ]
  },
  {
   "cell_type": "markdown",
   "metadata": {},
   "source": [
    "# 방문 수 분석 및 예측"
   ]
  },
  {
   "cell_type": "markdown",
   "metadata": {},
   "source": [
    "## 다른 정보들과의 관계"
   ]
  },
  {
   "cell_type": "code",
   "execution_count": null,
   "metadata": {},
   "outputs": [],
   "source": [
    "joined_df.head()"
   ]
  },
  {
   "cell_type": "markdown",
   "metadata": {},
   "source": [
    "아래 pairplot 을 보면 2가지를 알수 있습니다.\n",
    "1. 평균 앱 로딩 타임이 길어지면 visit 숫자가 줄어듭니다. 하지만 아주 약한 관계 -0.002\n",
    "2. 총 앱 로딩 타임이 길어지면 평균 앱 로딩 타임도 길어집니다. -> 많이 방문하면 총 로딩 타임이 길어질것, 많이 방문하면 그만큼 서버장애나 다른이유요 인해 엄청 오래걸리때가 걸릴수 있음=> 평균을 높임(예상)."
   ]
  },
  {
   "cell_type": "markdown",
   "metadata": {},
   "source": [
    "총 가입자수가 늘면서 앱로딩 시간이 길어지는지 보자. 그렇타면:\n",
    "- 초반에만 사용한 사람들은 방문 수가 적을것 + 가입자가 적은 초반에는 로딩시간이 빨라서 평균로딩시간이 짧음\n",
    "- 초반 ~ 현재까지 사용한 사람들은 방문수가 높을것 + 가입자수가 늘면서 평균로딩 시간도 오름/\n",
    "\n",
    "문제: 초반에 가입했더라도 후반에만 사용했을수도 있다... 언제 사용했는지의 데이터가 없어서 불가능.\n",
    "\n",
    "앱버젼별로 보면됨. --> 앱버젼도 평균 앱로딩 시간에 영향을 미치지않음."
   ]
  },
  {
   "cell_type": "code",
   "execution_count": 84,
   "metadata": {},
   "outputs": [
    {
     "data": {
      "text/html": [
       "<div>\n",
       "<style scoped>\n",
       "    .dataframe tbody tr th:only-of-type {\n",
       "        vertical-align: middle;\n",
       "    }\n",
       "\n",
       "    .dataframe tbody tr th {\n",
       "        vertical-align: top;\n",
       "    }\n",
       "\n",
       "    .dataframe thead tr th {\n",
       "        text-align: left;\n",
       "    }\n",
       "\n",
       "    .dataframe thead tr:last-of-type th {\n",
       "        text-align: right;\n",
       "    }\n",
       "</style>\n",
       "<table border=\"1\" class=\"dataframe\">\n",
       "  <thead>\n",
       "    <tr>\n",
       "      <th></th>\n",
       "      <th>user_uuid</th>\n",
       "      <th colspan=\"2\" halign=\"left\">visits</th>\n",
       "      <th colspan=\"3\" halign=\"left\">avg_time_to_interactive</th>\n",
       "    </tr>\n",
       "    <tr>\n",
       "      <th></th>\n",
       "      <th>count</th>\n",
       "      <th>sum</th>\n",
       "      <th>mean</th>\n",
       "      <th>std</th>\n",
       "      <th>mean</th>\n",
       "      <th>median</th>\n",
       "    </tr>\n",
       "    <tr>\n",
       "      <th>app_version_joined</th>\n",
       "      <th></th>\n",
       "      <th></th>\n",
       "      <th></th>\n",
       "      <th></th>\n",
       "      <th></th>\n",
       "      <th></th>\n",
       "    </tr>\n",
       "  </thead>\n",
       "  <tbody>\n",
       "    <tr>\n",
       "      <th>kelly</th>\n",
       "      <td>141529</td>\n",
       "      <td>1278338</td>\n",
       "      <td>9.032340</td>\n",
       "      <td>2.935303</td>\n",
       "      <td>3.601319</td>\n",
       "      <td>3.007713</td>\n",
       "    </tr>\n",
       "    <tr>\n",
       "      <th>spencer</th>\n",
       "      <td>186944</td>\n",
       "      <td>1715306</td>\n",
       "      <td>9.175507</td>\n",
       "      <td>2.926247</td>\n",
       "      <td>3.664832</td>\n",
       "      <td>3.068480</td>\n",
       "    </tr>\n",
       "  </tbody>\n",
       "</table>\n",
       "</div>"
      ],
      "text/plain": [
       "                   user_uuid   visits           avg_time_to_interactive  \\\n",
       "                       count      sum      mean                     std   \n",
       "app_version_joined                                                        \n",
       "kelly                 141529  1278338  9.032340                2.935303   \n",
       "spencer               186944  1715306  9.175507                2.926247   \n",
       "\n",
       "                                        \n",
       "                        mean    median  \n",
       "app_version_joined                      \n",
       "kelly               3.601319  3.007713  \n",
       "spencer             3.664832  3.068480  "
      ]
     },
     "execution_count": 84,
     "metadata": {},
     "output_type": "execute_result"
    }
   ],
   "source": [
    "joined_df.groupby([\"app_version_joined\"]).agg({\n",
    "    \"user_uuid\":\"count\",\n",
    "    \"visits\":{\"mean\", \"sum\"},\n",
    "    \"avg_time_to_interactive\":{\"mean\", np.std, np.median}\n",
    "})"
   ]
  },
  {
   "cell_type": "code",
   "execution_count": 85,
   "metadata": {},
   "outputs": [
    {
     "data": {
      "text/html": [
       "<div>\n",
       "<style scoped>\n",
       "    .dataframe tbody tr th:only-of-type {\n",
       "        vertical-align: middle;\n",
       "    }\n",
       "\n",
       "    .dataframe tbody tr th {\n",
       "        vertical-align: top;\n",
       "    }\n",
       "\n",
       "    .dataframe thead tr th {\n",
       "        text-align: left;\n",
       "    }\n",
       "\n",
       "    .dataframe thead tr:last-of-type th {\n",
       "        text-align: right;\n",
       "    }\n",
       "</style>\n",
       "<table border=\"1\" class=\"dataframe\">\n",
       "  <thead>\n",
       "    <tr>\n",
       "      <th></th>\n",
       "      <th>user_uuid</th>\n",
       "      <th colspan=\"2\" halign=\"left\">visits</th>\n",
       "      <th>avg_time_to_interactive</th>\n",
       "    </tr>\n",
       "    <tr>\n",
       "      <th></th>\n",
       "      <th>count</th>\n",
       "      <th>sum</th>\n",
       "      <th>mean</th>\n",
       "      <th>mean</th>\n",
       "    </tr>\n",
       "    <tr>\n",
       "      <th>year_month_joined</th>\n",
       "      <th></th>\n",
       "      <th></th>\n",
       "      <th></th>\n",
       "      <th></th>\n",
       "    </tr>\n",
       "  </thead>\n",
       "  <tbody>\n",
       "    <tr>\n",
       "      <th>2029-12</th>\n",
       "      <td>3</td>\n",
       "      <td>16</td>\n",
       "      <td>5.333333</td>\n",
       "      <td>4.001343</td>\n",
       "    </tr>\n",
       "    <tr>\n",
       "      <th>2030-01</th>\n",
       "      <td>30</td>\n",
       "      <td>210</td>\n",
       "      <td>7.000000</td>\n",
       "      <td>4.687666</td>\n",
       "    </tr>\n",
       "    <tr>\n",
       "      <th>2030-02</th>\n",
       "      <td>502</td>\n",
       "      <td>4843</td>\n",
       "      <td>9.647410</td>\n",
       "      <td>3.791061</td>\n",
       "    </tr>\n",
       "    <tr>\n",
       "      <th>2030-03</th>\n",
       "      <td>13433</td>\n",
       "      <td>121719</td>\n",
       "      <td>9.061193</td>\n",
       "      <td>3.670151</td>\n",
       "    </tr>\n",
       "    <tr>\n",
       "      <th>2030-04</th>\n",
       "      <td>314505</td>\n",
       "      <td>2866856</td>\n",
       "      <td>9.115454</td>\n",
       "      <td>3.635721</td>\n",
       "    </tr>\n",
       "  </tbody>\n",
       "</table>\n",
       "</div>"
      ],
      "text/plain": [
       "                  user_uuid   visits           avg_time_to_interactive\n",
       "                      count      sum      mean                    mean\n",
       "year_month_joined                                                     \n",
       "2029-12                   3       16  5.333333                4.001343\n",
       "2030-01                  30      210  7.000000                4.687666\n",
       "2030-02                 502     4843  9.647410                3.791061\n",
       "2030-03               13433   121719  9.061193                3.670151\n",
       "2030-04              314505  2866856  9.115454                3.635721"
      ]
     },
     "execution_count": 85,
     "metadata": {},
     "output_type": "execute_result"
    }
   ],
   "source": [
    "joined_df.groupby([\"year_month_joined\"]).agg({\n",
    "    \"user_uuid\":\"count\",\n",
    "    \"visits\":{\"mean\", \"sum\"},\n",
    "    \"avg_time_to_interactive\":\"mean\"\n",
    "})"
   ]
  },
  {
   "cell_type": "code",
   "execution_count": 86,
   "metadata": {},
   "outputs": [
    {
     "data": {
      "text/html": [
       "<div>\n",
       "<style scoped>\n",
       "    .dataframe tbody tr th:only-of-type {\n",
       "        vertical-align: middle;\n",
       "    }\n",
       "\n",
       "    .dataframe tbody tr th {\n",
       "        vertical-align: top;\n",
       "    }\n",
       "\n",
       "    .dataframe thead th {\n",
       "        text-align: right;\n",
       "    }\n",
       "</style>\n",
       "<table border=\"1\" class=\"dataframe\">\n",
       "  <thead>\n",
       "    <tr style=\"text-align: right;\">\n",
       "      <th></th>\n",
       "      <th>visits</th>\n",
       "      <th>sum_time_to_interactive</th>\n",
       "      <th>avg_time_to_interactive</th>\n",
       "      <th>dayofweek_joined</th>\n",
       "    </tr>\n",
       "  </thead>\n",
       "  <tbody>\n",
       "    <tr>\n",
       "      <th>visits</th>\n",
       "      <td>1.000000</td>\n",
       "      <td>0.713953</td>\n",
       "      <td>0.116019</td>\n",
       "      <td>0.000512</td>\n",
       "    </tr>\n",
       "    <tr>\n",
       "      <th>sum_time_to_interactive</th>\n",
       "      <td>0.713953</td>\n",
       "      <td>1.000000</td>\n",
       "      <td>0.550946</td>\n",
       "      <td>-0.000013</td>\n",
       "    </tr>\n",
       "    <tr>\n",
       "      <th>avg_time_to_interactive</th>\n",
       "      <td>0.116019</td>\n",
       "      <td>0.550946</td>\n",
       "      <td>1.000000</td>\n",
       "      <td>-0.000304</td>\n",
       "    </tr>\n",
       "    <tr>\n",
       "      <th>dayofweek_joined</th>\n",
       "      <td>0.000512</td>\n",
       "      <td>-0.000013</td>\n",
       "      <td>-0.000304</td>\n",
       "      <td>1.000000</td>\n",
       "    </tr>\n",
       "  </tbody>\n",
       "</table>\n",
       "</div>"
      ],
      "text/plain": [
       "                           visits  sum_time_to_interactive  \\\n",
       "visits                   1.000000                 0.713953   \n",
       "sum_time_to_interactive  0.713953                 1.000000   \n",
       "avg_time_to_interactive  0.116019                 0.550946   \n",
       "dayofweek_joined         0.000512                -0.000013   \n",
       "\n",
       "                         avg_time_to_interactive  dayofweek_joined  \n",
       "visits                                  0.116019          0.000512  \n",
       "sum_time_to_interactive                 0.550946         -0.000013  \n",
       "avg_time_to_interactive                 1.000000         -0.000304  \n",
       "dayofweek_joined                       -0.000304          1.000000  "
      ]
     },
     "execution_count": 86,
     "metadata": {},
     "output_type": "execute_result"
    }
   ],
   "source": [
    "joined_df.corr()"
   ]
  },
  {
   "cell_type": "code",
   "execution_count": 87,
   "metadata": {},
   "outputs": [
    {
     "data": {
      "image/png": "[encoded data removed]",
      "text/plain": [
       "<Figure size 720x720 with 20 Axes>"
      ]
     },
     "metadata": {
      "needs_background": "light"
     },
     "output_type": "display_data"
    }
   ],
   "source": [
    "sns.pairplot(joined_df, kind=\"scatter\")\n",
    "plt.show()"
   ]
  },
  {
   "cell_type": "markdown",
   "metadata": {},
   "source": [
    "---"
   ]
  },
  {
   "cell_type": "markdown",
   "metadata": {},
   "source": [
    "시간적으로 봤을때 두 그륩이 다른지 확인 -> ex: group_1 은 1월에 대부분 가입, group_2 는 3~4월에?\n",
    "    - 두그룹 둘다 가입자수가 그륩의 비율에 동일하게 증가. -> group_1가입자 = 2group_2가입자."
   ]
  },
  {
   "cell_type": "code",
   "execution_count": 88,
   "metadata": {},
   "outputs": [],
   "source": [
    "# fig = go.Figure()\n",
    "\n",
    "# fig.add_trace(\n",
    "#     go.Histogram(\n",
    "#         name = \"group1\",\n",
    "#         x= joined_df.loc[joined_df[\"group\"] == \"group_1\"][\"year_month_joined\"]\n",
    "#     )\n",
    "# )\n",
    "\n",
    "# fig.add_trace(\n",
    "#     go.Histogram(\n",
    "#         name = \"group2\",\n",
    "#         x= joined_df.loc[joined_df[\"group\"] == \"group_2\"][\"year_month_joined\"]\n",
    "#     )\n",
    "# )\n",
    "\n",
    "# fig.show()"
   ]
  },
  {
   "cell_type": "markdown",
   "metadata": {},
   "source": [
    "----"
   ]
  },
  {
   "cell_type": "markdown",
   "metadata": {},
   "source": [
    "categorical column 들과 방문 수의 관계\n",
    "\n",
    "- 가입 년-월 \n",
    "- 그룹\n",
    "- 통신사\n",
    "- 앱 버젼"
   ]
  },
  {
   "cell_type": "markdown",
   "metadata": {},
   "source": [
    "가입 년-월 분류:\n",
    "- 2030년 1월 < 3월 < 4월 < 2월 순으로 평균 방문 수.\n",
    "- 2030년 1월은 2,3,4월에 비해 평균 방문수가 낮고 평균 앱로딩 시간도 깁니다. -> 추가로 평균 앱로딩시간이 평균 방문 수의 영향을 미치는지 인과관계 분석을 해봐도 될것."
   ]
  },
  {
   "cell_type": "code",
   "execution_count": 89,
   "metadata": {},
   "outputs": [
    {
     "data": {
      "text/html": [
       "<div>\n",
       "<style scoped>\n",
       "    .dataframe tbody tr th:only-of-type {\n",
       "        vertical-align: middle;\n",
       "    }\n",
       "\n",
       "    .dataframe tbody tr th {\n",
       "        vertical-align: top;\n",
       "    }\n",
       "\n",
       "    .dataframe thead tr th {\n",
       "        text-align: left;\n",
       "    }\n",
       "\n",
       "    .dataframe thead tr:last-of-type th {\n",
       "        text-align: right;\n",
       "    }\n",
       "</style>\n",
       "<table border=\"1\" class=\"dataframe\">\n",
       "  <thead>\n",
       "    <tr>\n",
       "      <th></th>\n",
       "      <th>user_uuid</th>\n",
       "      <th colspan=\"2\" halign=\"left\">visits</th>\n",
       "      <th>avg_time_to_interactive</th>\n",
       "    </tr>\n",
       "    <tr>\n",
       "      <th></th>\n",
       "      <th>count</th>\n",
       "      <th>sum</th>\n",
       "      <th>mean</th>\n",
       "      <th>mean</th>\n",
       "    </tr>\n",
       "    <tr>\n",
       "      <th>year_month_joined</th>\n",
       "      <th></th>\n",
       "      <th></th>\n",
       "      <th></th>\n",
       "      <th></th>\n",
       "    </tr>\n",
       "  </thead>\n",
       "  <tbody>\n",
       "    <tr>\n",
       "      <th>2029-12</th>\n",
       "      <td>3</td>\n",
       "      <td>16</td>\n",
       "      <td>5.333333</td>\n",
       "      <td>4.001343</td>\n",
       "    </tr>\n",
       "    <tr>\n",
       "      <th>2030-01</th>\n",
       "      <td>30</td>\n",
       "      <td>210</td>\n",
       "      <td>7.000000</td>\n",
       "      <td>4.687666</td>\n",
       "    </tr>\n",
       "    <tr>\n",
       "      <th>2030-02</th>\n",
       "      <td>502</td>\n",
       "      <td>4843</td>\n",
       "      <td>9.647410</td>\n",
       "      <td>3.791061</td>\n",
       "    </tr>\n",
       "    <tr>\n",
       "      <th>2030-03</th>\n",
       "      <td>13433</td>\n",
       "      <td>121719</td>\n",
       "      <td>9.061193</td>\n",
       "      <td>3.670151</td>\n",
       "    </tr>\n",
       "    <tr>\n",
       "      <th>2030-04</th>\n",
       "      <td>314505</td>\n",
       "      <td>2866856</td>\n",
       "      <td>9.115454</td>\n",
       "      <td>3.635721</td>\n",
       "    </tr>\n",
       "  </tbody>\n",
       "</table>\n",
       "</div>"
      ],
      "text/plain": [
       "                  user_uuid   visits           avg_time_to_interactive\n",
       "                      count      sum      mean                    mean\n",
       "year_month_joined                                                     \n",
       "2029-12                   3       16  5.333333                4.001343\n",
       "2030-01                  30      210  7.000000                4.687666\n",
       "2030-02                 502     4843  9.647410                3.791061\n",
       "2030-03               13433   121719  9.061193                3.670151\n",
       "2030-04              314505  2866856  9.115454                3.635721"
      ]
     },
     "execution_count": 89,
     "metadata": {},
     "output_type": "execute_result"
    }
   ],
   "source": [
    "joined_df.groupby([\"year_month_joined\"]).agg({\n",
    "    \"user_uuid\":\"count\",\n",
    "    \"visits\":{\"mean\", \"sum\"},\n",
    "    \"avg_time_to_interactive\":\"mean\"\n",
    "})"
   ]
  },
  {
   "cell_type": "code",
   "execution_count": 90,
   "metadata": {},
   "outputs": [
    {
     "data": {
      "text/plain": [
       "<AxesSubplot:xlabel='year_month_joined', ylabel='visits'>"
      ]
     },
     "execution_count": 90,
     "metadata": {},
     "output_type": "execute_result"
    },
    {
     "data": {
      "image/png": "[encoded data removed]",
      "text/plain": [
       "<Figure size 432x288 with 1 Axes>"
      ]
     },
     "metadata": {
      "needs_background": "light"
     },
     "output_type": "display_data"
    }
   ],
   "source": [
    "sns.boxplot(x=joined_df[\"year_month_joined\"],\n",
    "            y=joined_df[\"visits\"],\n",
    "            order=sorted(joined_df[\"year_month_joined\"].unique()))"
   ]
  },
  {
   "cell_type": "code",
   "execution_count": 91,
   "metadata": {},
   "outputs": [
    {
     "data": {
      "text/html": [
       "<div>\n",
       "<style scoped>\n",
       "    .dataframe tbody tr th:only-of-type {\n",
       "        vertical-align: middle;\n",
       "    }\n",
       "\n",
       "    .dataframe tbody tr th {\n",
       "        vertical-align: top;\n",
       "    }\n",
       "\n",
       "    .dataframe thead tr th {\n",
       "        text-align: left;\n",
       "    }\n",
       "\n",
       "    .dataframe thead tr:last-of-type th {\n",
       "        text-align: right;\n",
       "    }\n",
       "</style>\n",
       "<table border=\"1\" class=\"dataframe\">\n",
       "  <thead>\n",
       "    <tr>\n",
       "      <th></th>\n",
       "      <th>user_uuid</th>\n",
       "      <th colspan=\"2\" halign=\"left\">visits</th>\n",
       "      <th>avg_time_to_interactive</th>\n",
       "    </tr>\n",
       "    <tr>\n",
       "      <th></th>\n",
       "      <th>count</th>\n",
       "      <th>sum</th>\n",
       "      <th>mean</th>\n",
       "      <th>mean</th>\n",
       "    </tr>\n",
       "    <tr>\n",
       "      <th>group</th>\n",
       "      <th></th>\n",
       "      <th></th>\n",
       "      <th></th>\n",
       "      <th></th>\n",
       "    </tr>\n",
       "  </thead>\n",
       "  <tbody>\n",
       "    <tr>\n",
       "      <th>group_1</th>\n",
       "      <td>223634</td>\n",
       "      <td>2038824</td>\n",
       "      <td>9.116789</td>\n",
       "      <td>3.639330</td>\n",
       "    </tr>\n",
       "    <tr>\n",
       "      <th>group_2</th>\n",
       "      <td>104839</td>\n",
       "      <td>954820</td>\n",
       "      <td>9.107489</td>\n",
       "      <td>3.633489</td>\n",
       "    </tr>\n",
       "  </tbody>\n",
       "</table>\n",
       "</div>"
      ],
      "text/plain": [
       "        user_uuid   visits           avg_time_to_interactive\n",
       "            count      sum      mean                    mean\n",
       "group                                                       \n",
       "group_1    223634  2038824  9.116789                3.639330\n",
       "group_2    104839   954820  9.107489                3.633489"
      ]
     },
     "execution_count": 91,
     "metadata": {},
     "output_type": "execute_result"
    }
   ],
   "source": [
    "joined_df.groupby([\"group\"]).agg({\n",
    "    \"user_uuid\":\"count\",\n",
    "    \"visits\":{\"mean\", \"sum\"},\n",
    "    \"avg_time_to_interactive\":\"mean\"\n",
    "})"
   ]
  },
  {
   "cell_type": "code",
   "execution_count": 92,
   "metadata": {},
   "outputs": [
    {
     "data": {
      "text/plain": [
       "<AxesSubplot:xlabel='group', ylabel='visits'>"
      ]
     },
     "execution_count": 92,
     "metadata": {},
     "output_type": "execute_result"
    },
    {
     "data": {
      "image/png": "[encoded data removed]",
      "text/plain": [
       "<Figure size 432x288 with 1 Axes>"
      ]
     },
     "metadata": {
      "needs_background": "light"
     },
     "output_type": "display_data"
    }
   ],
   "source": [
    "sns.boxplot(x=joined_df[\"group\"],\n",
    "            y=joined_df[\"visits\"])"
   ]
  },
  {
   "cell_type": "code",
   "execution_count": 93,
   "metadata": {},
   "outputs": [
    {
     "data": {
      "text/html": [
       "<div>\n",
       "<style scoped>\n",
       "    .dataframe tbody tr th:only-of-type {\n",
       "        vertical-align: middle;\n",
       "    }\n",
       "\n",
       "    .dataframe tbody tr th {\n",
       "        vertical-align: top;\n",
       "    }\n",
       "\n",
       "    .dataframe thead tr th {\n",
       "        text-align: left;\n",
       "    }\n",
       "\n",
       "    .dataframe thead tr:last-of-type th {\n",
       "        text-align: right;\n",
       "    }\n",
       "</style>\n",
       "<table border=\"1\" class=\"dataframe\">\n",
       "  <thead>\n",
       "    <tr>\n",
       "      <th></th>\n",
       "      <th>user_uuid</th>\n",
       "      <th colspan=\"2\" halign=\"left\">visits</th>\n",
       "      <th>avg_time_to_interactive</th>\n",
       "    </tr>\n",
       "    <tr>\n",
       "      <th></th>\n",
       "      <th>count</th>\n",
       "      <th>sum</th>\n",
       "      <th>mean</th>\n",
       "      <th>mean</th>\n",
       "    </tr>\n",
       "    <tr>\n",
       "      <th>carrier</th>\n",
       "      <th></th>\n",
       "      <th></th>\n",
       "      <th></th>\n",
       "      <th></th>\n",
       "    </tr>\n",
       "  </thead>\n",
       "  <tbody>\n",
       "    <tr>\n",
       "      <th>노랑</th>\n",
       "      <td>98767</td>\n",
       "      <td>899939</td>\n",
       "      <td>9.111738</td>\n",
       "      <td>3.631548</td>\n",
       "    </tr>\n",
       "    <tr>\n",
       "      <th>보라</th>\n",
       "      <td>81982</td>\n",
       "      <td>747046</td>\n",
       "      <td>9.112317</td>\n",
       "      <td>3.635884</td>\n",
       "    </tr>\n",
       "    <tr>\n",
       "      <th>초록</th>\n",
       "      <td>147724</td>\n",
       "      <td>1346659</td>\n",
       "      <td>9.116047</td>\n",
       "      <td>3.642300</td>\n",
       "    </tr>\n",
       "  </tbody>\n",
       "</table>\n",
       "</div>"
      ],
      "text/plain": [
       "        user_uuid   visits           avg_time_to_interactive\n",
       "            count      sum      mean                    mean\n",
       "carrier                                                     \n",
       "노랑          98767   899939  9.111738                3.631548\n",
       "보라          81982   747046  9.112317                3.635884\n",
       "초록         147724  1346659  9.116047                3.642300"
      ]
     },
     "execution_count": 93,
     "metadata": {},
     "output_type": "execute_result"
    }
   ],
   "source": [
    "joined_df.groupby([\"carrier\"]).agg({\n",
    "    \"user_uuid\":\"count\",\n",
    "    \"visits\":{\"mean\", \"sum\"},\n",
    "    \"avg_time_to_interactive\":\"mean\"\n",
    "})"
   ]
  },
  {
   "cell_type": "code",
   "execution_count": 117,
   "metadata": {},
   "outputs": [
    {
     "data": {
      "text/plain": [
       "<AxesSubplot:xlabel='carrier', ylabel='visits'>"
      ]
     },
     "execution_count": 117,
     "metadata": {},
     "output_type": "execute_result"
    },
    {
     "data": {
      "image/png": "[encoded data removed]",
      "text/plain": [
       "<Figure size 432x288 with 1 Axes>"
      ]
     },
     "metadata": {
      "needs_background": "light"
     },
     "output_type": "display_data"
    }
   ],
   "source": [
    "sns.boxplot(x=joined_df[\"carrier\"],\n",
    "            y=joined_df[\"visits\"])"
   ]
  },
  {
   "cell_type": "markdown",
   "metadata": {},
   "source": [
    "app_version_joined 분류:\n",
    "- 가입한 버젼 별 평균 방문 수, 큰차이 없음."
   ]
  },
  {
   "cell_type": "code",
   "execution_count": 95,
   "metadata": {},
   "outputs": [
    {
     "data": {
      "text/html": [
       "<div>\n",
       "<style scoped>\n",
       "    .dataframe tbody tr th:only-of-type {\n",
       "        vertical-align: middle;\n",
       "    }\n",
       "\n",
       "    .dataframe tbody tr th {\n",
       "        vertical-align: top;\n",
       "    }\n",
       "\n",
       "    .dataframe thead tr th {\n",
       "        text-align: left;\n",
       "    }\n",
       "\n",
       "    .dataframe thead tr:last-of-type th {\n",
       "        text-align: right;\n",
       "    }\n",
       "</style>\n",
       "<table border=\"1\" class=\"dataframe\">\n",
       "  <thead>\n",
       "    <tr>\n",
       "      <th></th>\n",
       "      <th>user_uuid</th>\n",
       "      <th colspan=\"2\" halign=\"left\">visits</th>\n",
       "      <th>avg_time_to_interactive</th>\n",
       "    </tr>\n",
       "    <tr>\n",
       "      <th></th>\n",
       "      <th>count</th>\n",
       "      <th>sum</th>\n",
       "      <th>mean</th>\n",
       "      <th>mean</th>\n",
       "    </tr>\n",
       "    <tr>\n",
       "      <th>app_version_joined</th>\n",
       "      <th></th>\n",
       "      <th></th>\n",
       "      <th></th>\n",
       "      <th></th>\n",
       "    </tr>\n",
       "  </thead>\n",
       "  <tbody>\n",
       "    <tr>\n",
       "      <th>kelly</th>\n",
       "      <td>141529</td>\n",
       "      <td>1278338</td>\n",
       "      <td>9.032340</td>\n",
       "      <td>3.601319</td>\n",
       "    </tr>\n",
       "    <tr>\n",
       "      <th>spencer</th>\n",
       "      <td>186944</td>\n",
       "      <td>1715306</td>\n",
       "      <td>9.175507</td>\n",
       "      <td>3.664832</td>\n",
       "    </tr>\n",
       "  </tbody>\n",
       "</table>\n",
       "</div>"
      ],
      "text/plain": [
       "                   user_uuid   visits           avg_time_to_interactive\n",
       "                       count      sum      mean                    mean\n",
       "app_version_joined                                                     \n",
       "kelly                 141529  1278338  9.032340                3.601319\n",
       "spencer               186944  1715306  9.175507                3.664832"
      ]
     },
     "execution_count": 95,
     "metadata": {},
     "output_type": "execute_result"
    }
   ],
   "source": [
    "joined_df.groupby([\"app_version_joined\"]).agg({\n",
    "    \"user_uuid\":\"count\",\n",
    "    \"visits\":{\"mean\", \"sum\"},\n",
    "    \"avg_time_to_interactive\":\"mean\"\n",
    "})"
   ]
  },
  {
   "cell_type": "code",
   "execution_count": 96,
   "metadata": {},
   "outputs": [
    {
     "data": {
      "text/plain": [
       "<AxesSubplot:xlabel='app_version_joined', ylabel='visits'>"
      ]
     },
     "execution_count": 96,
     "metadata": {},
     "output_type": "execute_result"
    },
    {
     "data": {
      "image/png": "[encoded data removed]",
      "text/plain": [
       "<Figure size 432x288 with 1 Axes>"
      ]
     },
     "metadata": {
      "needs_background": "light"
     },
     "output_type": "display_data"
    }
   ],
   "source": [
    "sns.boxplot(x=joined_df[\"app_version_joined\"],\n",
    "            y=joined_df[\"visits\"])"
   ]
  },
  {
   "cell_type": "markdown",
   "metadata": {},
   "source": [
    "## 방문 수 예측"
   ]
  },
  {
   "cell_type": "markdown",
   "metadata": {},
   "source": [
    "### Linear Regression"
   ]
  },
  {
   "cell_type": "code",
   "execution_count": 33,
   "metadata": {},
   "outputs": [],
   "source": [
    "from sklearn.preprocessing import OneHotEncoder\n",
    "from sklearn.preprocessing import StandardScaler\n",
    "from sklearn.model_selection import train_test_split\n",
    "\n",
    "from sklearn.linear_model import LinearRegression\n",
    "from sklearn.metrics import mean_squared_error"
   ]
  },
  {
   "cell_type": "code",
   "execution_count": 114,
   "metadata": {},
   "outputs": [],
   "source": [
    "joined_df = pd.merge(df_users, df_user_visits, left_on=\"user_uuid\", right_on=\"user_uuid\")\n",
    "\n",
    "joined_df[\"year_month_joined\"]= joined_df[\"date_joined\"].dt.to_period(\"M\")\n",
    "joined_df[\"dayofweek_joined\"] = joined_df[\"date_joined\"].dt.dayofweek # monday = 0 \n",
    "\n",
    "joined_df.set_index(\"date_joined\", inplace=True)\n",
    "joined_df.sort_index(inplace=True)"
   ]
  },
  {
   "cell_type": "code",
   "execution_count": 115,
   "metadata": {},
   "outputs": [
    {
     "data": {
      "text/html": [
       "<div>\n",
       "<style scoped>\n",
       "    .dataframe tbody tr th:only-of-type {\n",
       "        vertical-align: middle;\n",
       "    }\n",
       "\n",
       "    .dataframe tbody tr th {\n",
       "        vertical-align: top;\n",
       "    }\n",
       "\n",
       "    .dataframe thead th {\n",
       "        text-align: right;\n",
       "    }\n",
       "</style>\n",
       "<table border=\"1\" class=\"dataframe\">\n",
       "  <thead>\n",
       "    <tr style=\"text-align: right;\">\n",
       "      <th></th>\n",
       "      <th>user_uuid</th>\n",
       "      <th>carrier</th>\n",
       "      <th>group</th>\n",
       "      <th>app_version_joined</th>\n",
       "      <th>visits</th>\n",
       "      <th>sum_time_to_interactive</th>\n",
       "      <th>avg_time_to_interactive</th>\n",
       "      <th>year_month_joined</th>\n",
       "      <th>dayofweek_joined</th>\n",
       "    </tr>\n",
       "    <tr>\n",
       "      <th>date_joined</th>\n",
       "      <th></th>\n",
       "      <th></th>\n",
       "      <th></th>\n",
       "      <th></th>\n",
       "      <th></th>\n",
       "      <th></th>\n",
       "      <th></th>\n",
       "      <th></th>\n",
       "      <th></th>\n",
       "    </tr>\n",
       "  </thead>\n",
       "  <tbody>\n",
       "    <tr>\n",
       "      <th>2029-12-28</th>\n",
       "      <td>150ad937cf8e7410ea1115e420070ff0</td>\n",
       "      <td>노랑</td>\n",
       "      <td>group_1</td>\n",
       "      <td>spencer</td>\n",
       "      <td>4</td>\n",
       "      <td>36.872369</td>\n",
       "      <td>9.218092</td>\n",
       "      <td>2029-12</td>\n",
       "      <td>4</td>\n",
       "    </tr>\n",
       "    <tr>\n",
       "      <th>2029-12-29</th>\n",
       "      <td>5cb4284c5d17a1df998bf23d893dc311</td>\n",
       "      <td>보라</td>\n",
       "      <td>group_1</td>\n",
       "      <td>kelly</td>\n",
       "      <td>0</td>\n",
       "      <td>0.000000</td>\n",
       "      <td>0.000000</td>\n",
       "      <td>2029-12</td>\n",
       "      <td>5</td>\n",
       "    </tr>\n",
       "    <tr>\n",
       "      <th>2029-12-31</th>\n",
       "      <td>afb74bfc47bff08dfe2fea7f1dab24d0</td>\n",
       "      <td>노랑</td>\n",
       "      <td>group_1</td>\n",
       "      <td>spencer</td>\n",
       "      <td>12</td>\n",
       "      <td>33.431243</td>\n",
       "      <td>2.785937</td>\n",
       "      <td>2029-12</td>\n",
       "      <td>0</td>\n",
       "    </tr>\n",
       "    <tr>\n",
       "      <th>2030-01-01</th>\n",
       "      <td>eb9973fa2a2645d2a1d7b1d68bb84f6d</td>\n",
       "      <td>초록</td>\n",
       "      <td>group_1</td>\n",
       "      <td>spencer</td>\n",
       "      <td>4</td>\n",
       "      <td>0.303953</td>\n",
       "      <td>0.075988</td>\n",
       "      <td>2030-01</td>\n",
       "      <td>1</td>\n",
       "    </tr>\n",
       "    <tr>\n",
       "      <th>2030-01-06</th>\n",
       "      <td>7395b7a220c1f5a8b6b239486d3937fb</td>\n",
       "      <td>보라</td>\n",
       "      <td>group_2</td>\n",
       "      <td>spencer</td>\n",
       "      <td>0</td>\n",
       "      <td>0.000000</td>\n",
       "      <td>0.000000</td>\n",
       "      <td>2030-01</td>\n",
       "      <td>6</td>\n",
       "    </tr>\n",
       "    <tr>\n",
       "      <th>...</th>\n",
       "      <td>...</td>\n",
       "      <td>...</td>\n",
       "      <td>...</td>\n",
       "      <td>...</td>\n",
       "      <td>...</td>\n",
       "      <td>...</td>\n",
       "      <td>...</td>\n",
       "      <td>...</td>\n",
       "      <td>...</td>\n",
       "    </tr>\n",
       "    <tr>\n",
       "      <th>2030-04-30</th>\n",
       "      <td>bf4b379bfac3e73df5ee452ba8069083</td>\n",
       "      <td>노랑</td>\n",
       "      <td>group_1</td>\n",
       "      <td>kelly</td>\n",
       "      <td>2</td>\n",
       "      <td>29.101243</td>\n",
       "      <td>14.550622</td>\n",
       "      <td>2030-04</td>\n",
       "      <td>1</td>\n",
       "    </tr>\n",
       "    <tr>\n",
       "      <th>2030-04-30</th>\n",
       "      <td>1a48b6d37d044301055917cac75e6201</td>\n",
       "      <td>노랑</td>\n",
       "      <td>group_1</td>\n",
       "      <td>kelly</td>\n",
       "      <td>0</td>\n",
       "      <td>0.000000</td>\n",
       "      <td>0.000000</td>\n",
       "      <td>2030-04</td>\n",
       "      <td>1</td>\n",
       "    </tr>\n",
       "    <tr>\n",
       "      <th>2030-04-30</th>\n",
       "      <td>96a9ead4164ee1e40b404c87de78b40e</td>\n",
       "      <td>노랑</td>\n",
       "      <td>group_1</td>\n",
       "      <td>kelly</td>\n",
       "      <td>22</td>\n",
       "      <td>49.144535</td>\n",
       "      <td>2.233843</td>\n",
       "      <td>2030-04</td>\n",
       "      <td>1</td>\n",
       "    </tr>\n",
       "    <tr>\n",
       "      <th>2030-04-30</th>\n",
       "      <td>c0d7c962eed036bd40ceb4918d69c80c</td>\n",
       "      <td>노랑</td>\n",
       "      <td>group_2</td>\n",
       "      <td>spencer</td>\n",
       "      <td>7</td>\n",
       "      <td>18.244510</td>\n",
       "      <td>2.606359</td>\n",
       "      <td>2030-04</td>\n",
       "      <td>1</td>\n",
       "    </tr>\n",
       "    <tr>\n",
       "      <th>2030-04-30</th>\n",
       "      <td>90911966edbe075464e75006b7416706</td>\n",
       "      <td>노랑</td>\n",
       "      <td>group_2</td>\n",
       "      <td>spencer</td>\n",
       "      <td>0</td>\n",
       "      <td>0.000000</td>\n",
       "      <td>0.000000</td>\n",
       "      <td>2030-04</td>\n",
       "      <td>1</td>\n",
       "    </tr>\n",
       "  </tbody>\n",
       "</table>\n",
       "<p>328473 rows × 9 columns</p>\n",
       "</div>"
      ],
      "text/plain": [
       "                                    user_uuid carrier    group  \\\n",
       "date_joined                                                      \n",
       "2029-12-28   150ad937cf8e7410ea1115e420070ff0      노랑  group_1   \n",
       "2029-12-29   5cb4284c5d17a1df998bf23d893dc311      보라  group_1   \n",
       "2029-12-31   afb74bfc47bff08dfe2fea7f1dab24d0      노랑  group_1   \n",
       "2030-01-01   eb9973fa2a2645d2a1d7b1d68bb84f6d      초록  group_1   \n",
       "2030-01-06   7395b7a220c1f5a8b6b239486d3937fb      보라  group_2   \n",
       "...                                       ...     ...      ...   \n",
       "2030-04-30   bf4b379bfac3e73df5ee452ba8069083      노랑  group_1   \n",
       "2030-04-30   1a48b6d37d044301055917cac75e6201      노랑  group_1   \n",
       "2030-04-30   96a9ead4164ee1e40b404c87de78b40e      노랑  group_1   \n",
       "2030-04-30   c0d7c962eed036bd40ceb4918d69c80c      노랑  group_2   \n",
       "2030-04-30   90911966edbe075464e75006b7416706      노랑  group_2   \n",
       "\n",
       "            app_version_joined  visits  sum_time_to_interactive  \\\n",
       "date_joined                                                       \n",
       "2029-12-28             spencer       4                36.872369   \n",
       "2029-12-29               kelly       0                 0.000000   \n",
       "2029-12-31             spencer      12                33.431243   \n",
       "2030-01-01             spencer       4                 0.303953   \n",
       "2030-01-06             spencer       0                 0.000000   \n",
       "...                        ...     ...                      ...   \n",
       "2030-04-30               kelly       2                29.101243   \n",
       "2030-04-30               kelly       0                 0.000000   \n",
       "2030-04-30               kelly      22                49.144535   \n",
       "2030-04-30             spencer       7                18.244510   \n",
       "2030-04-30             spencer       0                 0.000000   \n",
       "\n",
       "             avg_time_to_interactive year_month_joined  dayofweek_joined  \n",
       "date_joined                                                               \n",
       "2029-12-28                  9.218092           2029-12                 4  \n",
       "2029-12-29                  0.000000           2029-12                 5  \n",
       "2029-12-31                  2.785937           2029-12                 0  \n",
       "2030-01-01                  0.075988           2030-01                 1  \n",
       "2030-01-06                  0.000000           2030-01                 6  \n",
       "...                              ...               ...               ...  \n",
       "2030-04-30                 14.550622           2030-04                 1  \n",
       "2030-04-30                  0.000000           2030-04                 1  \n",
       "2030-04-30                  2.233843           2030-04                 1  \n",
       "2030-04-30                  2.606359           2030-04                 1  \n",
       "2030-04-30                  0.000000           2030-04                 1  \n",
       "\n",
       "[328473 rows x 9 columns]"
      ]
     },
     "execution_count": 115,
     "metadata": {},
     "output_type": "execute_result"
    }
   ],
   "source": [
    "joined_df"
   ]
  },
  {
   "cell_type": "code",
   "execution_count": 64,
   "metadata": {},
   "outputs": [],
   "source": [
    "cat_cols = [\"carrier\", \"group\", \"app_version_joined\"] #\"year\", \"month\", \"dayofweek_joined\"\n",
    "num_cols = [\"sum_time_to_interactive\", \"avg_time_to_interactive\"]\n",
    "\n",
    "joined_df[\"year\"] = joined_df[\"year_month_joined\"].dt.year\n",
    "joined_df[\"month\"] = joined_df[\"year_month_joined\"].dt.month\n",
    "joined_df.drop(columns=[\"user_uuid\", \"year_month_joined\"], inplace=True)\n",
    "\n",
    "y = joined_df.pop(\"visits\")\n",
    "X = joined_df"
   ]
  },
  {
   "cell_type": "code",
   "execution_count": 65,
   "metadata": {},
   "outputs": [],
   "source": [
    "X_train, X_test, y_train, y_test = train_test_split(X, y, test_size=0.3, random_state=42)"
   ]
  },
  {
   "cell_type": "code",
   "execution_count": 66,
   "metadata": {},
   "outputs": [],
   "source": [
    "X_train = pd.get_dummies(X_train, columns=cat_cols, drop_first=True)\n",
    "\n",
    "stdscaler = StandardScaler()\n",
    "X_train[num_cols] = stdscaler.fit_transform(X_train[num_cols])"
   ]
  },
  {
   "cell_type": "code",
   "execution_count": 50,
   "metadata": {},
   "outputs": [
    {
     "data": {
      "text/plain": [
       "LinearRegression()"
      ]
     },
     "execution_count": 50,
     "metadata": {},
     "output_type": "execute_result"
    }
   ],
   "source": [
    "lin_reg = LinearRegression()\n",
    "lin_reg.fit(X_train, y_train)"
   ]
  },
  {
   "cell_type": "code",
   "execution_count": 51,
   "metadata": {},
   "outputs": [],
   "source": [
    "X_test = pd.get_dummies(X_test, columns=cat_cols, drop_first=True) # can we do this before splitting train_test?\n",
    "X_test[num_cols] = stdscaler.transform(X_test[num_cols])"
   ]
  },
  {
   "cell_type": "code",
   "execution_count": 52,
   "metadata": {},
   "outputs": [],
   "source": [
    "y_train_pred = lin_reg.predict(X_train)\n",
    "y_pred = lin_reg.predict(X_test)"
   ]
  },
  {
   "cell_type": "code",
   "execution_count": 43,
   "metadata": {
    "scrolled": true
   },
   "outputs": [
    {
     "name": "stdout",
     "output_type": "stream",
     "text": [
      "OHE month and year\n",
      "train MSE = 34.277934679030714\n",
      "test MSE = 34.504852460199686\n"
     ]
    }
   ],
   "source": [
    "print(\"OHE month and year\")\n",
    "print(f\"train MSE = {mean_squared_error(y_train, y_train_pred)}\")\n",
    "print(f\"test MSE = {mean_squared_error(y_test, y_pred)}\")"
   ]
  },
  {
   "cell_type": "code",
   "execution_count": 53,
   "metadata": {},
   "outputs": [
    {
     "name": "stdout",
     "output_type": "stream",
     "text": [
      "Original\n",
      "train MSE = 34.279813835369886\n",
      "test MSE = 34.50485686183003\n"
     ]
    }
   ],
   "source": [
    "print(\"Original\")\n",
    "print(f\"train MSE = {mean_squared_error(y_train, y_train_pred)}\")\n",
    "print(f\"test MSE = {mean_squared_error(y_test, y_pred)}\")"
   ]
  },
  {
   "cell_type": "code",
   "execution_count": 54,
   "metadata": {},
   "outputs": [],
   "source": [
    "test_df = pd.concat([X_test, y_test], axis=1)\n",
    "test_df[\"y_pred\"] = y_pred"
   ]
  },
  {
   "cell_type": "code",
   "execution_count": null,
   "metadata": {},
   "outputs": [],
   "source": [
    "fig = go.Figure()\n",
    "\n",
    "fig.add_trace(\n",
    "    go.Scatter(\n",
    "        x=test_df.index,\n",
    "        y=test_df[\"visits\"],\n",
    "        mode =\"markers\"\n",
    "    )\n",
    ")\n",
    "\n",
    "fig.show()"
   ]
  },
  {
   "cell_type": "markdown",
   "metadata": {},
   "source": [
    "### Regression Tree"
   ]
  },
  {
   "cell_type": "code",
   "execution_count": 119,
   "metadata": {},
   "outputs": [
    {
     "name": "stderr",
     "output_type": "stream",
     "text": [
      "C:\\Users\\haneu\\AppData\\Local\\Continuum\\anaconda3\\lib\\site-packages\\ipykernel_launcher.py:24: SettingWithCopyWarning:\n",
      "\n",
      "\n",
      "A value is trying to be set on a copy of a slice from a DataFrame.\n",
      "Try using .loc[row_indexer,col_indexer] = value instead\n",
      "\n",
      "See the caveats in the documentation: https://pandas.pydata.org/pandas-docs/stable/user_guide/indexing.html#returning-a-view-versus-a-copy\n",
      "\n",
      "C:\\Users\\haneu\\AppData\\Local\\Continuum\\anaconda3\\lib\\site-packages\\pandas\\core\\indexing.py:1736: SettingWithCopyWarning:\n",
      "\n",
      "\n",
      "A value is trying to be set on a copy of a slice from a DataFrame.\n",
      "Try using .loc[row_indexer,col_indexer] = value instead\n",
      "\n",
      "See the caveats in the documentation: https://pandas.pydata.org/pandas-docs/stable/user_guide/indexing.html#returning-a-view-versus-a-copy\n",
      "\n"
     ]
    }
   ],
   "source": [
    "joined_df = pd.merge(df_users, df_user_visits, left_on=\"user_uuid\", right_on=\"user_uuid\")\n",
    "\n",
    "joined_df[\"year_month_joined\"]= joined_df[\"date_joined\"].dt.to_period(\"M\")\n",
    "joined_df[\"dayofweek_joined\"] = joined_df[\"date_joined\"].dt.dayofweek # monday = 0 \n",
    "\n",
    "joined_df.set_index(\"date_joined\", inplace=True)\n",
    "joined_df.sort_index(inplace=True)\n",
    "\n",
    "cat_cols = [\"carrier\", \"group\", \"app_version_joined\",\"year\", \"month\", \"dayofweek_joined\"] #\"year\", \"month\", \"dayofweek_joined\"\n",
    "num_cols = [\"sum_time_to_interactive\", \"avg_time_to_interactive\"]\n",
    "\n",
    "joined_df[\"year\"] = joined_df[\"year_month_joined\"].dt.year\n",
    "joined_df[\"month\"] = joined_df[\"year_month_joined\"].dt.month\n",
    "joined_df.drop(columns=[\"user_uuid\", \"year_month_joined\"], inplace=True)\n",
    "\n",
    "y = joined_df.pop(\"visits\")\n",
    "X = joined_df\n",
    "\n",
    "X_train, X_test, y_train, y_test = train_test_split(X, y, test_size=0.3, random_state=42)\n",
    "\n",
    "# X_train = pd.get_dummies(X_train, columns=cat_cols, drop_first=True)\n",
    "\n",
    "stdscaler = StandardScaler()\n",
    "X_train[num_cols] = stdscaler.fit_transform(X_train[num_cols])"
   ]
  },
  {
   "cell_type": "code",
   "execution_count": 120,
   "metadata": {},
   "outputs": [
    {
     "ename": "ValueError",
     "evalue": "could not convert string to float: '초록'",
     "output_type": "error",
     "traceback": [
      "\u001b[1;31m---------------------------------------------------------------------------\u001b[0m",
      "\u001b[1;31mValueError\u001b[0m                                Traceback (most recent call last)",
      "\u001b[1;32m<ipython-input-120-fb9cec8ba227>\u001b[0m in \u001b[0;36m<module>\u001b[1;34m\u001b[0m\n\u001b[0;32m      2\u001b[0m \u001b[1;33m\u001b[0m\u001b[0m\n\u001b[0;32m      3\u001b[0m \u001b[0mtree_reg\u001b[0m \u001b[1;33m=\u001b[0m \u001b[0mDecisionTreeRegressor\u001b[0m\u001b[1;33m(\u001b[0m\u001b[1;33m)\u001b[0m\u001b[1;33m\u001b[0m\u001b[1;33m\u001b[0m\u001b[0m\n\u001b[1;32m----> 4\u001b[1;33m \u001b[0mtree_reg\u001b[0m\u001b[1;33m.\u001b[0m\u001b[0mfit\u001b[0m\u001b[1;33m(\u001b[0m\u001b[0mX_train\u001b[0m\u001b[1;33m,\u001b[0m \u001b[0my_train\u001b[0m\u001b[1;33m)\u001b[0m\u001b[1;33m\u001b[0m\u001b[1;33m\u001b[0m\u001b[0m\n\u001b[0m",
      "\u001b[1;32m~\\AppData\\Local\\Continuum\\anaconda3\\lib\\site-packages\\sklearn\\tree\\_classes.py\u001b[0m in \u001b[0;36mfit\u001b[1;34m(self, X, y, sample_weight, check_input, X_idx_sorted)\u001b[0m\n\u001b[0;32m   1244\u001b[0m             \u001b[0msample_weight\u001b[0m\u001b[1;33m=\u001b[0m\u001b[0msample_weight\u001b[0m\u001b[1;33m,\u001b[0m\u001b[1;33m\u001b[0m\u001b[1;33m\u001b[0m\u001b[0m\n\u001b[0;32m   1245\u001b[0m             \u001b[0mcheck_input\u001b[0m\u001b[1;33m=\u001b[0m\u001b[0mcheck_input\u001b[0m\u001b[1;33m,\u001b[0m\u001b[1;33m\u001b[0m\u001b[1;33m\u001b[0m\u001b[0m\n\u001b[1;32m-> 1246\u001b[1;33m             X_idx_sorted=X_idx_sorted)\n\u001b[0m\u001b[0;32m   1247\u001b[0m         \u001b[1;32mreturn\u001b[0m \u001b[0mself\u001b[0m\u001b[1;33m\u001b[0m\u001b[1;33m\u001b[0m\u001b[0m\n\u001b[0;32m   1248\u001b[0m \u001b[1;33m\u001b[0m\u001b[0m\n",
      "\u001b[1;32m~\\AppData\\Local\\Continuum\\anaconda3\\lib\\site-packages\\sklearn\\tree\\_classes.py\u001b[0m in \u001b[0;36mfit\u001b[1;34m(self, X, y, sample_weight, check_input, X_idx_sorted)\u001b[0m\n\u001b[0;32m    156\u001b[0m             X, y = self._validate_data(X, y,\n\u001b[0;32m    157\u001b[0m                                        validate_separately=(check_X_params,\n\u001b[1;32m--> 158\u001b[1;33m                                                             check_y_params))\n\u001b[0m\u001b[0;32m    159\u001b[0m             \u001b[1;32mif\u001b[0m \u001b[0missparse\u001b[0m\u001b[1;33m(\u001b[0m\u001b[0mX\u001b[0m\u001b[1;33m)\u001b[0m\u001b[1;33m:\u001b[0m\u001b[1;33m\u001b[0m\u001b[1;33m\u001b[0m\u001b[0m\n\u001b[0;32m    160\u001b[0m                 \u001b[0mX\u001b[0m\u001b[1;33m.\u001b[0m\u001b[0msort_indices\u001b[0m\u001b[1;33m(\u001b[0m\u001b[1;33m)\u001b[0m\u001b[1;33m\u001b[0m\u001b[1;33m\u001b[0m\u001b[0m\n",
      "\u001b[1;32m~\\AppData\\Local\\Continuum\\anaconda3\\lib\\site-packages\\sklearn\\base.py\u001b[0m in \u001b[0;36m_validate_data\u001b[1;34m(self, X, y, reset, validate_separately, **check_params)\u001b[0m\n\u001b[0;32m    427\u001b[0m                 \u001b[1;31m# :(\u001b[0m\u001b[1;33m\u001b[0m\u001b[1;33m\u001b[0m\u001b[1;33m\u001b[0m\u001b[0m\n\u001b[0;32m    428\u001b[0m                 \u001b[0mcheck_X_params\u001b[0m\u001b[1;33m,\u001b[0m \u001b[0mcheck_y_params\u001b[0m \u001b[1;33m=\u001b[0m \u001b[0mvalidate_separately\u001b[0m\u001b[1;33m\u001b[0m\u001b[1;33m\u001b[0m\u001b[0m\n\u001b[1;32m--> 429\u001b[1;33m                 \u001b[0mX\u001b[0m \u001b[1;33m=\u001b[0m \u001b[0mcheck_array\u001b[0m\u001b[1;33m(\u001b[0m\u001b[0mX\u001b[0m\u001b[1;33m,\u001b[0m \u001b[1;33m**\u001b[0m\u001b[0mcheck_X_params\u001b[0m\u001b[1;33m)\u001b[0m\u001b[1;33m\u001b[0m\u001b[1;33m\u001b[0m\u001b[0m\n\u001b[0m\u001b[0;32m    430\u001b[0m                 \u001b[0my\u001b[0m \u001b[1;33m=\u001b[0m \u001b[0mcheck_array\u001b[0m\u001b[1;33m(\u001b[0m\u001b[0my\u001b[0m\u001b[1;33m,\u001b[0m \u001b[1;33m**\u001b[0m\u001b[0mcheck_y_params\u001b[0m\u001b[1;33m)\u001b[0m\u001b[1;33m\u001b[0m\u001b[1;33m\u001b[0m\u001b[0m\n\u001b[0;32m    431\u001b[0m             \u001b[1;32melse\u001b[0m\u001b[1;33m:\u001b[0m\u001b[1;33m\u001b[0m\u001b[1;33m\u001b[0m\u001b[0m\n",
      "\u001b[1;32m~\\AppData\\Local\\Continuum\\anaconda3\\lib\\site-packages\\sklearn\\utils\\validation.py\u001b[0m in \u001b[0;36minner_f\u001b[1;34m(*args, **kwargs)\u001b[0m\n\u001b[0;32m     70\u001b[0m                           FutureWarning)\n\u001b[0;32m     71\u001b[0m         \u001b[0mkwargs\u001b[0m\u001b[1;33m.\u001b[0m\u001b[0mupdate\u001b[0m\u001b[1;33m(\u001b[0m\u001b[1;33m{\u001b[0m\u001b[0mk\u001b[0m\u001b[1;33m:\u001b[0m \u001b[0marg\u001b[0m \u001b[1;32mfor\u001b[0m \u001b[0mk\u001b[0m\u001b[1;33m,\u001b[0m \u001b[0marg\u001b[0m \u001b[1;32min\u001b[0m \u001b[0mzip\u001b[0m\u001b[1;33m(\u001b[0m\u001b[0msig\u001b[0m\u001b[1;33m.\u001b[0m\u001b[0mparameters\u001b[0m\u001b[1;33m,\u001b[0m \u001b[0margs\u001b[0m\u001b[1;33m)\u001b[0m\u001b[1;33m}\u001b[0m\u001b[1;33m)\u001b[0m\u001b[1;33m\u001b[0m\u001b[1;33m\u001b[0m\u001b[0m\n\u001b[1;32m---> 72\u001b[1;33m         \u001b[1;32mreturn\u001b[0m \u001b[0mf\u001b[0m\u001b[1;33m(\u001b[0m\u001b[1;33m**\u001b[0m\u001b[0mkwargs\u001b[0m\u001b[1;33m)\u001b[0m\u001b[1;33m\u001b[0m\u001b[1;33m\u001b[0m\u001b[0m\n\u001b[0m\u001b[0;32m     73\u001b[0m     \u001b[1;32mreturn\u001b[0m \u001b[0minner_f\u001b[0m\u001b[1;33m\u001b[0m\u001b[1;33m\u001b[0m\u001b[0m\n\u001b[0;32m     74\u001b[0m \u001b[1;33m\u001b[0m\u001b[0m\n",
      "\u001b[1;32m~\\AppData\\Local\\Continuum\\anaconda3\\lib\\site-packages\\sklearn\\utils\\validation.py\u001b[0m in \u001b[0;36mcheck_array\u001b[1;34m(array, accept_sparse, accept_large_sparse, dtype, order, copy, force_all_finite, ensure_2d, allow_nd, ensure_min_samples, ensure_min_features, estimator)\u001b[0m\n\u001b[0;32m    596\u001b[0m                     \u001b[0marray\u001b[0m \u001b[1;33m=\u001b[0m \u001b[0marray\u001b[0m\u001b[1;33m.\u001b[0m\u001b[0mastype\u001b[0m\u001b[1;33m(\u001b[0m\u001b[0mdtype\u001b[0m\u001b[1;33m,\u001b[0m \u001b[0mcasting\u001b[0m\u001b[1;33m=\u001b[0m\u001b[1;34m\"unsafe\"\u001b[0m\u001b[1;33m,\u001b[0m \u001b[0mcopy\u001b[0m\u001b[1;33m=\u001b[0m\u001b[1;32mFalse\u001b[0m\u001b[1;33m)\u001b[0m\u001b[1;33m\u001b[0m\u001b[1;33m\u001b[0m\u001b[0m\n\u001b[0;32m    597\u001b[0m                 \u001b[1;32melse\u001b[0m\u001b[1;33m:\u001b[0m\u001b[1;33m\u001b[0m\u001b[1;33m\u001b[0m\u001b[0m\n\u001b[1;32m--> 598\u001b[1;33m                     \u001b[0marray\u001b[0m \u001b[1;33m=\u001b[0m \u001b[0mnp\u001b[0m\u001b[1;33m.\u001b[0m\u001b[0masarray\u001b[0m\u001b[1;33m(\u001b[0m\u001b[0marray\u001b[0m\u001b[1;33m,\u001b[0m \u001b[0morder\u001b[0m\u001b[1;33m=\u001b[0m\u001b[0morder\u001b[0m\u001b[1;33m,\u001b[0m \u001b[0mdtype\u001b[0m\u001b[1;33m=\u001b[0m\u001b[0mdtype\u001b[0m\u001b[1;33m)\u001b[0m\u001b[1;33m\u001b[0m\u001b[1;33m\u001b[0m\u001b[0m\n\u001b[0m\u001b[0;32m    599\u001b[0m             \u001b[1;32mexcept\u001b[0m \u001b[0mComplexWarning\u001b[0m\u001b[1;33m:\u001b[0m\u001b[1;33m\u001b[0m\u001b[1;33m\u001b[0m\u001b[0m\n\u001b[0;32m    600\u001b[0m                 raise ValueError(\"Complex data not supported\\n\"\n",
      "\u001b[1;32m~\\AppData\\Roaming\\Python\\Python37\\site-packages\\numpy\\core\\_asarray.py\u001b[0m in \u001b[0;36masarray\u001b[1;34m(a, dtype, order)\u001b[0m\n\u001b[0;32m     83\u001b[0m \u001b[1;33m\u001b[0m\u001b[0m\n\u001b[0;32m     84\u001b[0m     \"\"\"\n\u001b[1;32m---> 85\u001b[1;33m     \u001b[1;32mreturn\u001b[0m \u001b[0marray\u001b[0m\u001b[1;33m(\u001b[0m\u001b[0ma\u001b[0m\u001b[1;33m,\u001b[0m \u001b[0mdtype\u001b[0m\u001b[1;33m,\u001b[0m \u001b[0mcopy\u001b[0m\u001b[1;33m=\u001b[0m\u001b[1;32mFalse\u001b[0m\u001b[1;33m,\u001b[0m \u001b[0morder\u001b[0m\u001b[1;33m=\u001b[0m\u001b[0morder\u001b[0m\u001b[1;33m)\u001b[0m\u001b[1;33m\u001b[0m\u001b[1;33m\u001b[0m\u001b[0m\n\u001b[0m\u001b[0;32m     86\u001b[0m \u001b[1;33m\u001b[0m\u001b[0m\n\u001b[0;32m     87\u001b[0m \u001b[1;33m\u001b[0m\u001b[0m\n",
      "\u001b[1;32m~\\AppData\\Local\\Continuum\\anaconda3\\lib\\site-packages\\pandas\\core\\generic.py\u001b[0m in \u001b[0;36m__array__\u001b[1;34m(self, dtype)\u001b[0m\n\u001b[0;32m   1779\u001b[0m \u001b[1;33m\u001b[0m\u001b[0m\n\u001b[0;32m   1780\u001b[0m     \u001b[1;32mdef\u001b[0m \u001b[0m__array__\u001b[0m\u001b[1;33m(\u001b[0m\u001b[0mself\u001b[0m\u001b[1;33m,\u001b[0m \u001b[0mdtype\u001b[0m\u001b[1;33m=\u001b[0m\u001b[1;32mNone\u001b[0m\u001b[1;33m)\u001b[0m \u001b[1;33m->\u001b[0m \u001b[0mnp\u001b[0m\u001b[1;33m.\u001b[0m\u001b[0mndarray\u001b[0m\u001b[1;33m:\u001b[0m\u001b[1;33m\u001b[0m\u001b[1;33m\u001b[0m\u001b[0m\n\u001b[1;32m-> 1781\u001b[1;33m         \u001b[1;32mreturn\u001b[0m \u001b[0mnp\u001b[0m\u001b[1;33m.\u001b[0m\u001b[0masarray\u001b[0m\u001b[1;33m(\u001b[0m\u001b[0mself\u001b[0m\u001b[1;33m.\u001b[0m\u001b[0m_values\u001b[0m\u001b[1;33m,\u001b[0m \u001b[0mdtype\u001b[0m\u001b[1;33m=\u001b[0m\u001b[0mdtype\u001b[0m\u001b[1;33m)\u001b[0m\u001b[1;33m\u001b[0m\u001b[1;33m\u001b[0m\u001b[0m\n\u001b[0m\u001b[0;32m   1782\u001b[0m \u001b[1;33m\u001b[0m\u001b[0m\n\u001b[0;32m   1783\u001b[0m     \u001b[1;32mdef\u001b[0m \u001b[0m__array_wrap__\u001b[0m\u001b[1;33m(\u001b[0m\u001b[0mself\u001b[0m\u001b[1;33m,\u001b[0m \u001b[0mresult\u001b[0m\u001b[1;33m,\u001b[0m \u001b[0mcontext\u001b[0m\u001b[1;33m=\u001b[0m\u001b[1;32mNone\u001b[0m\u001b[1;33m)\u001b[0m\u001b[1;33m:\u001b[0m\u001b[1;33m\u001b[0m\u001b[1;33m\u001b[0m\u001b[0m\n",
      "\u001b[1;32m~\\AppData\\Roaming\\Python\\Python37\\site-packages\\numpy\\core\\_asarray.py\u001b[0m in \u001b[0;36masarray\u001b[1;34m(a, dtype, order)\u001b[0m\n\u001b[0;32m     83\u001b[0m \u001b[1;33m\u001b[0m\u001b[0m\n\u001b[0;32m     84\u001b[0m     \"\"\"\n\u001b[1;32m---> 85\u001b[1;33m     \u001b[1;32mreturn\u001b[0m \u001b[0marray\u001b[0m\u001b[1;33m(\u001b[0m\u001b[0ma\u001b[0m\u001b[1;33m,\u001b[0m \u001b[0mdtype\u001b[0m\u001b[1;33m,\u001b[0m \u001b[0mcopy\u001b[0m\u001b[1;33m=\u001b[0m\u001b[1;32mFalse\u001b[0m\u001b[1;33m,\u001b[0m \u001b[0morder\u001b[0m\u001b[1;33m=\u001b[0m\u001b[0morder\u001b[0m\u001b[1;33m)\u001b[0m\u001b[1;33m\u001b[0m\u001b[1;33m\u001b[0m\u001b[0m\n\u001b[0m\u001b[0;32m     86\u001b[0m \u001b[1;33m\u001b[0m\u001b[0m\n\u001b[0;32m     87\u001b[0m \u001b[1;33m\u001b[0m\u001b[0m\n",
      "\u001b[1;31mValueError\u001b[0m: could not convert string to float: '초록'"
     ]
    }
   ],
   "source": [
    "from sklearn.tree import DecisionTreeRegressor\n",
    "\n",
    "tree_reg = DecisionTreeRegressor()\n",
    "tree_reg.fit(X_train, y_train)"
   ]
  },
  {
   "cell_type": "code",
   "execution_count": 111,
   "metadata": {},
   "outputs": [],
   "source": [
    "X_test = pd.get_dummies(X_test, columns=cat_cols, drop_first=True) # can we do this before splitting train_test?\n",
    "X_test[num_cols] = stdscaler.transform(X_test[num_cols])"
   ]
  },
  {
   "cell_type": "code",
   "execution_count": 112,
   "metadata": {},
   "outputs": [],
   "source": [
    "y_train_pred = tree_reg.predict(X_train)\n",
    "y_pred = tree_reg.predict(X_test)"
   ]
  },
  {
   "cell_type": "code",
   "execution_count": 113,
   "metadata": {},
   "outputs": [
    {
     "name": "stdout",
     "output_type": "stream",
     "text": [
      "min_sample split = 7\n",
      "train MSE = 0.006504125150588655\n",
      "test MSE = 0.13098983174686935\n"
     ]
    }
   ],
   "source": [
    "print(\"min_sample split = 7\")\n",
    "print(f\"train MSE = {mean_squared_error(y_train, y_train_pred)}\")\n",
    "print(f\"test MSE = {mean_squared_error(y_test, y_pred)}\")"
   ]
  },
  {
   "cell_type": "code",
   "execution_count": 106,
   "metadata": {},
   "outputs": [
    {
     "name": "stdout",
     "output_type": "stream",
     "text": [
      "min_sample split = 7\n",
      "train MSE = 0.022998711207565168\n",
      "test MSE = 0.13688417967296518\n"
     ]
    }
   ],
   "source": [
    "print(\"min_sample split = 7\")\n",
    "print(f\"train MSE = {mean_squared_error(y_train, y_train_pred)}\")\n",
    "print(f\"test MSE = {mean_squared_error(y_test, y_pred)}\")"
   ]
  },
  {
   "cell_type": "code",
   "execution_count": 101,
   "metadata": {},
   "outputs": [
    {
     "name": "stdout",
     "output_type": "stream",
     "text": [
      "min_sample split = 20 \n",
      "train MSE = 0.10702833394641474\n",
      "test MSE = 0.23071400638147932\n"
     ]
    }
   ],
   "source": [
    "print(\"min_sample split = 20\")\n",
    "print(f\"train MSE = {mean_squared_error(y_train, y_train_pred)}\")\n",
    "print(f\"test MSE = {mean_squared_error(y_test, y_pred)}\")"
   ]
  },
  {
   "cell_type": "code",
   "execution_count": 79,
   "metadata": {},
   "outputs": [
    {
     "name": "stdout",
     "output_type": "stream",
     "text": [
      "OHE\n",
      "train MSE = 0.0\n",
      "test MSE = 0.11891376265957662\n"
     ]
    }
   ],
   "source": [
    "print(\"OHE\")\n",
    "print(f\"train MSE = {mean_squared_error(y_train, y_train_pred)}\")\n",
    "print(f\"test MSE = {mean_squared_error(y_test, y_pred)}\")"
   ]
  },
  {
   "cell_type": "code",
   "execution_count": 71,
   "metadata": {},
   "outputs": [
    {
     "name": "stdout",
     "output_type": "stream",
     "text": [
      "Original\n",
      "train MSE = 0.0\n",
      "test MSE = 0.12449513912849343\n"
     ]
    }
   ],
   "source": [
    "print(\"Original\")\n",
    "print(f\"train MSE = {mean_squared_error(y_train, y_train_pred)}\")\n",
    "print(f\"test MSE = {mean_squared_error(y_test, y_pred)}\")"
   ]
  },
  {
   "cell_type": "code",
   "execution_count": 72,
   "metadata": {},
   "outputs": [],
   "source": [
    "test_df = pd.concat([X_test, y_test], axis=1)\n",
    "test_df[\"y_pred\"] = y_pred"
   ]
  },
  {
   "cell_type": "code",
   "execution_count": 73,
   "metadata": {},
   "outputs": [
    {
     "data": {
      "text/html": [
       "<div>\n",
       "<style scoped>\n",
       "    .dataframe tbody tr th:only-of-type {\n",
       "        vertical-align: middle;\n",
       "    }\n",
       "\n",
       "    .dataframe tbody tr th {\n",
       "        vertical-align: top;\n",
       "    }\n",
       "\n",
       "    .dataframe thead th {\n",
       "        text-align: right;\n",
       "    }\n",
       "</style>\n",
       "<table border=\"1\" class=\"dataframe\">\n",
       "  <thead>\n",
       "    <tr style=\"text-align: right;\">\n",
       "      <th></th>\n",
       "      <th>sum_time_to_interactive</th>\n",
       "      <th>avg_time_to_interactive</th>\n",
       "      <th>dayofweek_joined</th>\n",
       "      <th>year</th>\n",
       "      <th>month</th>\n",
       "      <th>carrier_보라</th>\n",
       "      <th>carrier_초록</th>\n",
       "      <th>group_group_2</th>\n",
       "      <th>app_version_joined_spencer</th>\n",
       "      <th>visits</th>\n",
       "      <th>y_pred</th>\n",
       "    </tr>\n",
       "    <tr>\n",
       "      <th>date_joined</th>\n",
       "      <th></th>\n",
       "      <th></th>\n",
       "      <th></th>\n",
       "      <th></th>\n",
       "      <th></th>\n",
       "      <th></th>\n",
       "      <th></th>\n",
       "      <th></th>\n",
       "      <th></th>\n",
       "      <th></th>\n",
       "      <th></th>\n",
       "    </tr>\n",
       "  </thead>\n",
       "  <tbody>\n",
       "    <tr>\n",
       "      <th>2030-04-27</th>\n",
       "      <td>0.206318</td>\n",
       "      <td>0.373562</td>\n",
       "      <td>5</td>\n",
       "      <td>2030</td>\n",
       "      <td>4</td>\n",
       "      <td>0</td>\n",
       "      <td>0</td>\n",
       "      <td>0</td>\n",
       "      <td>1</td>\n",
       "      <td>10</td>\n",
       "      <td>10.0</td>\n",
       "    </tr>\n",
       "    <tr>\n",
       "      <th>2030-04-19</th>\n",
       "      <td>0.226035</td>\n",
       "      <td>1.508024</td>\n",
       "      <td>4</td>\n",
       "      <td>2030</td>\n",
       "      <td>4</td>\n",
       "      <td>0</td>\n",
       "      <td>0</td>\n",
       "      <td>0</td>\n",
       "      <td>0</td>\n",
       "      <td>6</td>\n",
       "      <td>6.0</td>\n",
       "    </tr>\n",
       "    <tr>\n",
       "      <th>2030-04-30</th>\n",
       "      <td>-0.181427</td>\n",
       "      <td>0.280540</td>\n",
       "      <td>1</td>\n",
       "      <td>2030</td>\n",
       "      <td>4</td>\n",
       "      <td>0</td>\n",
       "      <td>1</td>\n",
       "      <td>0</td>\n",
       "      <td>0</td>\n",
       "      <td>6</td>\n",
       "      <td>6.0</td>\n",
       "    </tr>\n",
       "    <tr>\n",
       "      <th>2030-04-21</th>\n",
       "      <td>-0.061234</td>\n",
       "      <td>0.015404</td>\n",
       "      <td>6</td>\n",
       "      <td>2030</td>\n",
       "      <td>4</td>\n",
       "      <td>0</td>\n",
       "      <td>1</td>\n",
       "      <td>0</td>\n",
       "      <td>0</td>\n",
       "      <td>9</td>\n",
       "      <td>9.0</td>\n",
       "    </tr>\n",
       "    <tr>\n",
       "      <th>2030-04-21</th>\n",
       "      <td>0.340348</td>\n",
       "      <td>-0.262793</td>\n",
       "      <td>6</td>\n",
       "      <td>2030</td>\n",
       "      <td>4</td>\n",
       "      <td>0</td>\n",
       "      <td>1</td>\n",
       "      <td>0</td>\n",
       "      <td>1</td>\n",
       "      <td>19</td>\n",
       "      <td>19.0</td>\n",
       "    </tr>\n",
       "    <tr>\n",
       "      <th>...</th>\n",
       "      <td>...</td>\n",
       "      <td>...</td>\n",
       "      <td>...</td>\n",
       "      <td>...</td>\n",
       "      <td>...</td>\n",
       "      <td>...</td>\n",
       "      <td>...</td>\n",
       "      <td>...</td>\n",
       "      <td>...</td>\n",
       "      <td>...</td>\n",
       "      <td>...</td>\n",
       "    </tr>\n",
       "    <tr>\n",
       "      <th>2030-04-24</th>\n",
       "      <td>-0.655130</td>\n",
       "      <td>-0.683808</td>\n",
       "      <td>2</td>\n",
       "      <td>2030</td>\n",
       "      <td>4</td>\n",
       "      <td>0</td>\n",
       "      <td>0</td>\n",
       "      <td>0</td>\n",
       "      <td>0</td>\n",
       "      <td>1</td>\n",
       "      <td>1.0</td>\n",
       "    </tr>\n",
       "    <tr>\n",
       "      <th>2030-04-29</th>\n",
       "      <td>-0.199422</td>\n",
       "      <td>-0.652888</td>\n",
       "      <td>0</td>\n",
       "      <td>2030</td>\n",
       "      <td>4</td>\n",
       "      <td>0</td>\n",
       "      <td>1</td>\n",
       "      <td>0</td>\n",
       "      <td>1</td>\n",
       "      <td>15</td>\n",
       "      <td>15.0</td>\n",
       "    </tr>\n",
       "    <tr>\n",
       "      <th>2030-04-18</th>\n",
       "      <td>0.469383</td>\n",
       "      <td>-0.194989</td>\n",
       "      <td>3</td>\n",
       "      <td>2030</td>\n",
       "      <td>4</td>\n",
       "      <td>1</td>\n",
       "      <td>0</td>\n",
       "      <td>1</td>\n",
       "      <td>1</td>\n",
       "      <td>20</td>\n",
       "      <td>20.0</td>\n",
       "    </tr>\n",
       "    <tr>\n",
       "      <th>2030-04-20</th>\n",
       "      <td>0.211920</td>\n",
       "      <td>1.465501</td>\n",
       "      <td>5</td>\n",
       "      <td>2030</td>\n",
       "      <td>4</td>\n",
       "      <td>0</td>\n",
       "      <td>0</td>\n",
       "      <td>0</td>\n",
       "      <td>1</td>\n",
       "      <td>6</td>\n",
       "      <td>6.0</td>\n",
       "    </tr>\n",
       "    <tr>\n",
       "      <th>2030-04-29</th>\n",
       "      <td>-0.597138</td>\n",
       "      <td>-0.971796</td>\n",
       "      <td>0</td>\n",
       "      <td>2030</td>\n",
       "      <td>4</td>\n",
       "      <td>1</td>\n",
       "      <td>0</td>\n",
       "      <td>1</td>\n",
       "      <td>0</td>\n",
       "      <td>6</td>\n",
       "      <td>6.0</td>\n",
       "    </tr>\n",
       "  </tbody>\n",
       "</table>\n",
       "<p>98542 rows × 11 columns</p>\n",
       "</div>"
      ],
      "text/plain": [
       "             sum_time_to_interactive  avg_time_to_interactive  \\\n",
       "date_joined                                                     \n",
       "2030-04-27                  0.206318                 0.373562   \n",
       "2030-04-19                  0.226035                 1.508024   \n",
       "2030-04-30                 -0.181427                 0.280540   \n",
       "2030-04-21                 -0.061234                 0.015404   \n",
       "2030-04-21                  0.340348                -0.262793   \n",
       "...                              ...                      ...   \n",
       "2030-04-24                 -0.655130                -0.683808   \n",
       "2030-04-29                 -0.199422                -0.652888   \n",
       "2030-04-18                  0.469383                -0.194989   \n",
       "2030-04-20                  0.211920                 1.465501   \n",
       "2030-04-29                 -0.597138                -0.971796   \n",
       "\n",
       "             dayofweek_joined  year  month  carrier_보라  carrier_초록  \\\n",
       "date_joined                                                          \n",
       "2030-04-27                  5  2030      4           0           0   \n",
       "2030-04-19                  4  2030      4           0           0   \n",
       "2030-04-30                  1  2030      4           0           1   \n",
       "2030-04-21                  6  2030      4           0           1   \n",
       "2030-04-21                  6  2030      4           0           1   \n",
       "...                       ...   ...    ...         ...         ...   \n",
       "2030-04-24                  2  2030      4           0           0   \n",
       "2030-04-29                  0  2030      4           0           1   \n",
       "2030-04-18                  3  2030      4           1           0   \n",
       "2030-04-20                  5  2030      4           0           0   \n",
       "2030-04-29                  0  2030      4           1           0   \n",
       "\n",
       "             group_group_2  app_version_joined_spencer  visits  y_pred  \n",
       "date_joined                                                             \n",
       "2030-04-27               0                           1      10    10.0  \n",
       "2030-04-19               0                           0       6     6.0  \n",
       "2030-04-30               0                           0       6     6.0  \n",
       "2030-04-21               0                           0       9     9.0  \n",
       "2030-04-21               0                           1      19    19.0  \n",
       "...                    ...                         ...     ...     ...  \n",
       "2030-04-24               0                           0       1     1.0  \n",
       "2030-04-29               0                           1      15    15.0  \n",
       "2030-04-18               1                           1      20    20.0  \n",
       "2030-04-20               0                           1       6     6.0  \n",
       "2030-04-29               1                           0       6     6.0  \n",
       "\n",
       "[98542 rows x 11 columns]"
      ]
     },
     "execution_count": 73,
     "metadata": {},
     "output_type": "execute_result"
    }
   ],
   "source": [
    "test_df"
   ]
  },
  {
   "cell_type": "code",
   "execution_count": 82,
   "metadata": {},
   "outputs": [
    {
     "data": {
      "text/plain": [
       "105"
      ]
     },
     "execution_count": 82,
     "metadata": {},
     "output_type": "execute_result"
    }
   ],
   "source": [
    "test_df[\"visits\"].max()"
   ]
  }
 ],
 "metadata": {
  "kernelspec": {
   "display_name": "Python 3",
   "language": "python",
   "name": "python3"
  },
  "language_info": {
   "codemirror_mode": {
    "name": "ipython",
    "version": 3
   },
   "file_extension": ".py",
   "mimetype": "text/x-python",
   "name": "python",
   "nbconvert_exporter": "python",
   "pygments_lexer": "ipython3",
   "version": "3.7.3"
  },
  "toc": {
   "base_numbering": 1,
   "nav_menu": {},
   "number_sections": true,
   "sideBar": true,
   "skip_h1_title": false,
   "title_cell": "Table of Contents",
   "title_sidebar": "Contents",
   "toc_cell": false,
   "toc_position": {
    "height": "calc(100% - 180px)",
    "left": "10px",
    "top": "150px",
    "width": "200.417px"
   },
   "toc_section_display": true,
   "toc_window_display": true
  }
 },
 "nbformat": 4,
 "nbformat_minor": 4
}
