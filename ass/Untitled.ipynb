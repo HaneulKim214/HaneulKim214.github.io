{
 "cells": [
  {
   "cell_type": "code",
   "execution_count": null,
   "metadata": {},
   "outputs": [],
   "source": [
    "import matplotlib.pyplot as plt\n",
    "import numpy as np\n",
    "import pandas as pd\n",
    "import plotly.graph_objects as go\n",
    "import seaborn as sns\n",
    "\n",
    "from plotly.subplots import make_subplots"
   ]
  },
  {
   "cell_type": "code",
   "execution_count": null,
   "metadata": {},
   "outputs": [],
   "source": [
    "plt.rcParams['font.family'] = 'Malgun Gothic'"
   ]
  },
  {
   "cell_type": "code",
   "execution_count": null,
   "metadata": {},
   "outputs": [],
   "source": [
    "df_users = pd.read_csv(\"[뱅크샐러드] DS 사전과제 Dataset/df_users.csv\")\n",
    "df_user_visits = pd.read_csv(\"[뱅크샐러드] DS 사전과제 Dataset/df_user_visits.csv\")"
   ]
  },
  {
   "cell_type": "code",
   "execution_count": null,
   "metadata": {},
   "outputs": [],
   "source": [
    "df_users.describe().T.join(pd.DataFrame(df_users.dtypes)).rename(columns={0:\"dtypes\"})"
   ]
  },
  {
   "cell_type": "code",
   "execution_count": null,
   "metadata": {},
   "outputs": [],
   "source": [
    "df_user_visits.describe().T.join(pd.DataFrame(df_user_visits.dtypes)).rename(columns={0:\"dtypes\"})"
   ]
  },
  {
   "cell_type": "markdown",
   "metadata": {},
   "source": [
    "# Feature engineering"
   ]
  },
  {
   "cell_type": "code",
   "execution_count": null,
   "metadata": {},
   "outputs": [],
   "source": [
    "df_users[\"date_joined\"] = pd.to_datetime(df_users[\"date_joined\"])\n",
    "df_user_visits[\"avg_time_to_interactive\"] = df_user_visits[\"avg_time_to_interactive\"].fillna(0)"
   ]
  },
  {
   "cell_type": "code",
   "execution_count": null,
   "metadata": {},
   "outputs": [],
   "source": [
    "joined_df = pd.merge(df_users, df_user_visits, left_on=\"user_uuid\", right_on=\"user_uuid\")\n",
    "\n",
    "joined_df[\"year_month_joined\"]= joined_df[\"date_joined\"].dt.to_period(\"M\")\n",
    "joined_df[\"dayofweek_joined\"] = joined_df[\"date_joined\"].dt.dayofweek # monday = 0 \n",
    "\n",
    "joined_df.set_index(\"date_joined\", inplace=True)\n",
    "joined_df.sort_index(inplace=True)"
   ]
  },
  {
   "cell_type": "code",
   "execution_count": null,
   "metadata": {},
   "outputs": [],
   "source": [
    "joined_df.head()"
   ]
  },
  {
   "cell_type": "markdown",
   "metadata": {},
   "source": [
    "group_1 의 모든 사용자의 방문횟수가 group_2보다 2배정도 많은데 애초에 사용자수가 2배 많음.\n",
    "- 인당 평균 방문수는 비슷.\n",
    "- visit 0 인 사람도 대략 group_1 = 2group_2, 그룹 사이즈의 차이로 보임. -> 어느 한 그룹이 visit 0 의 영향이 없음."
   ]
  },
  {
   "cell_type": "markdown",
   "metadata": {},
   "source": [
    "# 사용자 그룹 간 앱 방문 비교 분석"
   ]
  },
  {
   "cell_type": "markdown",
   "metadata": {},
   "source": [
    "## group_1 과 group_2 의 사용자 방문 수의 차이가 있는지 검증"
   ]
  },
  {
   "cell_type": "code",
   "execution_count": null,
   "metadata": {},
   "outputs": [],
   "source": [
    "joined_df.groupby([\"group\"]).agg({\n",
    "    \"visits\":{\"count\", sum, np.mean,np.median, np.std, min, max},\n",
    "    \"avg_time_to_interactive\":{np.mean, np.median, np.std, min, max}\n",
    "})"
   ]
  },
  {
   "cell_type": "markdown",
   "metadata": {},
   "source": [
    "아래 Histogram 을 보면 그륩별 방문 수 분포는 비슷한 shape 을 그리고 있습니다."
   ]
  },
  {
   "cell_type": "code",
   "execution_count": null,
   "metadata": {},
   "outputs": [],
   "source": [
    "group1 = joined_df.loc[joined_df[\"group\"] == \"group_1\"].copy()\n",
    "group2 = joined_df.loc[joined_df[\"group\"] == \"group_2\"].copy()\n",
    "\n",
    "fig = make_subplots(\n",
    "    rows=2, cols=1,\n",
    "    subplot_titles=[\"group1\", \"group2\"]    \n",
    ")\n",
    "\n",
    "fig.add_trace(\n",
    "    go.Histogram(\n",
    "        name = \"group1\",\n",
    "        x = group1[\"visits\"]\n",
    "    ), row=1, col=1\n",
    ")\n",
    "fig.add_trace(\n",
    "    go.Histogram(\n",
    "        name = \"group2\",\n",
    "        x = group2[\"visits\"]\n",
    "    ), row=2, col=1\n",
    ")\n",
    "\n",
    "fig.update_layout(\n",
    "    title = \"group 별 방문 수 분포\"\n",
    ")\n",
    "fig.show()"
   ]
  },
  {
   "cell_type": "code",
   "execution_count": null,
   "metadata": {},
   "outputs": [],
   "source": [
    "group1_sample = group1.sample(100)\n",
    "group2_sample = group2.sample(100)"
   ]
  },
  {
   "cell_type": "code",
   "execution_count": null,
   "metadata": {},
   "outputs": [],
   "source": [
    "print(f\"group1_sample mean    = {group1_sample['visits'].mean()}\")\n",
    "print(f\"group1_sample std_dev = {group1_sample['visits'].std()}\")"
   ]
  },
  {
   "cell_type": "code",
   "execution_count": null,
   "metadata": {},
   "outputs": [],
   "source": [
    "print(f\"group2_sample mean    = {group2_sample['visits'].mean()}\")\n",
    "print(f\"group2_sample std_dev = {group2_sample['visits'].std()}\")"
   ]
  },
  {
   "cell_type": "markdown",
   "metadata": {},
   "source": [
    "## 그룹별 통신사별 방문 수 차이"
   ]
  },
  {
   "cell_type": "markdown",
   "metadata": {},
   "source": [
    "group1 과 group2의 사용자 방문 수의 차이가 통신사 별로 다른지? -> ex: A 통신사를 쓰는 group1는 A통신사를 쓰는 grouop2 사용자보다 방문 수가 많은가?"
   ]
  },
  {
   "cell_type": "code",
   "execution_count": null,
   "metadata": {},
   "outputs": [],
   "source": [
    "joined_df.groupby([\"carrier\", \"group\"]).agg({\n",
    "    \"visits\":{\"count\", sum, np.mean, np.std, min, max},\n",
    "    \"avg_time_to_interactive\":{np.mean, np.median, np.std, min, max}\n",
    "})"
   ]
  },
  {
   "cell_type": "markdown",
   "metadata": {},
   "source": [
    "### 그룹별 통신사별 방문 수 분포"
   ]
  },
  {
   "cell_type": "code",
   "execution_count": null,
   "metadata": {},
   "outputs": [],
   "source": [
    "carriers = [\"노랑\", \"보라\", \"초록\"]\n",
    "groups   = [\"group_1\", \"group_2\"]\n",
    "\n",
    "df_dict = {}\n",
    "for carrier in carriers:\n",
    "    for group in groups:\n",
    "        df = joined_df.loc[(joined_df[\"carrier\"] == carrier) &\n",
    "                           (joined_df[\"group\"] == group)].copy()\n",
    "        df_dict[carrier +\"_\"+ group] = df"
   ]
  },
  {
   "cell_type": "code",
   "execution_count": null,
   "metadata": {
    "scrolled": false
   },
   "outputs": [],
   "source": [
    "fig = make_subplots(\n",
    "    rows=3, \n",
    "    cols=2,\n",
    "    subplot_titles=list(df_dict.keys())\n",
    ")\n",
    "\n",
    "for idx, (name, df) in enumerate(df_dict.items()):\n",
    "    fig.add_trace(\n",
    "        go.Histogram(\n",
    "            name = name,\n",
    "            x = df[\"visits\"]\n",
    "        ),\n",
    "        row=(idx//2)+1, col= (idx%2)+1\n",
    "    )\n",
    "    fig.update_xaxes(range=[0,100])\n",
    "    \n",
    "fig.update_layout(\n",
    "    title = \"통신사별_group별 방문 수 분포\"\n",
    ")\n",
    "\n",
    "fig.show()"
   ]
  },
  {
   "cell_type": "markdown",
   "metadata": {},
   "source": [
    "### 가설검증"
   ]
  },
  {
   "cell_type": "code",
   "execution_count": null,
   "metadata": {},
   "outputs": [],
   "source": [
    "# def TestDifference(carrier_name, n, c, g1, g2):\n",
    "    "
   ]
  },
  {
   "cell_type": "code",
   "execution_count": null,
   "metadata": {},
   "outputs": [],
   "source": [
    "# for carrier in [\"노랑\", \"보라\", \"초록\"]:\n",
    "#     carrier_df = joined_df.loc[joined_df[\"carrier\"] == carrier].copy()\n",
    "    \n",
    "#     g1 = carrier_df.loc[carrier_df[\"group\"] == \"group_1\"].sample(100).copy()\n",
    "#     g2 = carrier_df.loc[carrier_df[\"group\"] == \"group_2\"].sample(100).copy()\n",
    "    \n",
    "#     TestDifference(n, 0.)"
   ]
  },
  {
   "cell_type": "code",
   "execution_count": null,
   "metadata": {},
   "outputs": [],
   "source": [
    "n = 100\n",
    "\n",
    "for name, df in df_dict.items():\n",
    "    sample = df.sample(100)\n",
    "    print(f\"{name} mean    = {sample['visits'].mean()}\")\n",
    "    print(f\"{name} std_dev = {sample['visits'].std()}\")\n",
    "    print(\"\")"
   ]
  },
  {
   "cell_type": "markdown",
   "metadata": {},
   "source": [
    "# 방문 수 분석 및 예측"
   ]
  },
  {
   "cell_type": "markdown",
   "metadata": {},
   "source": [
    "## 다른 정보들과의 관계"
   ]
  },
  {
   "cell_type": "code",
   "execution_count": null,
   "metadata": {},
   "outputs": [],
   "source": [
    "joined_df.head()"
   ]
  },
  {
   "cell_type": "markdown",
   "metadata": {},
   "source": [
    "아래 pairplot 을 보면 2가지를 알수 있습니다.\n",
    "1. 평균 앱 로딩 타임이 길어지면 visit 숫자가 줄어듭니다. 하지만 아주 약한 관계 -0.002\n",
    "2. 총 앱 로딩 타임이 길어지면 평균 앱 로딩 타임도 길어집니다. -> 많이 방문하면 총 로딩 타임이 길어질것, 많이 방문하면 그만큼 서버장애나 다른이유요 인해 엄청 오래걸리때가 걸릴수 있음=> 평균을 높임(예상)."
   ]
  },
  {
   "cell_type": "markdown",
   "metadata": {},
   "source": [
    "총 가입자수가 늘면서 앱로딩 시간이 길어지는지 보자. 그렇타면:\n",
    "- 초반에만 사용한 사람들은 방문 수가 적을것 + 가입자가 적은 초반에는 로딩시간이 빨라서 평균로딩시간이 짧음\n",
    "- 초반 ~ 현재까지 사용한 사람들은 방문수가 높을것 + 가입자수가 늘면서 평균로딩 시간도 오름/\n",
    "\n",
    "문제: 초반에 가입했더라도 후반에만 사용했을수도 있다... 언제 사용했는지의 데이터가 없어서 불가능.\n",
    "\n",
    "앱버젼별로 보면됨. --> 앱버젼도 평균 앱로딩 시간에 영향을 미치지않음."
   ]
  },
  {
   "cell_type": "code",
   "execution_count": null,
   "metadata": {},
   "outputs": [],
   "source": [
    "joined_df.groupby([\"app_version_joined\"]).agg({\n",
    "    \"user_uuid\":\"count\",\n",
    "    \"visits\":{\"mean\", \"sum\"},\n",
    "    \"avg_time_to_interactive\":{\"mean\", np.std, np.median}\n",
    "})"
   ]
  },
  {
   "cell_type": "code",
   "execution_count": null,
   "metadata": {},
   "outputs": [],
   "source": [
    "joined_df.groupby([\"year_month_joined\"]).agg({\n",
    "    \"user_uuid\":\"count\",\n",
    "    \"visits\":{\"mean\", \"sum\"},\n",
    "    \"avg_time_to_interactive\":\"mean\"\n",
    "})"
   ]
  },
  {
   "cell_type": "code",
   "execution_count": null,
   "metadata": {},
   "outputs": [],
   "source": [
    "joined_df.corr()"
   ]
  },
  {
   "cell_type": "code",
   "execution_count": null,
   "metadata": {},
   "outputs": [],
   "source": [
    "sns.pairplot(joined_df, kind=\"scatter\")\n",
    "plt.show()"
   ]
  },
  {
   "cell_type": "markdown",
   "metadata": {},
   "source": [
    "---"
   ]
  },
  {
   "cell_type": "markdown",
   "metadata": {},
   "source": [
    "시간적으로 봤을때 두 그륩이 다른지 확인 -> ex: group_1 은 1월에 대부분 가입, group_2 는 3~4월에?\n",
    "    - 두그룹 둘다 가입자수가 그륩의 비율에 동일하게 증가. -> group_1가입자 = 2group_2가입자."
   ]
  },
  {
   "cell_type": "code",
   "execution_count": null,
   "metadata": {},
   "outputs": [],
   "source": [
    "# fig = go.Figure()\n",
    "\n",
    "# fig.add_trace(\n",
    "#     go.Histogram(\n",
    "#         name = \"group1\",\n",
    "#         x= joined_df.loc[joined_df[\"group\"] == \"group_1\"][\"year_month_joined\"]\n",
    "#     )\n",
    "# )\n",
    "\n",
    "# fig.add_trace(\n",
    "#     go.Histogram(\n",
    "#         name = \"group2\",\n",
    "#         x= joined_df.loc[joined_df[\"group\"] == \"group_2\"][\"year_month_joined\"]\n",
    "#     )\n",
    "# )\n",
    "\n",
    "# fig.show()"
   ]
  },
  {
   "cell_type": "markdown",
   "metadata": {},
   "source": [
    "----"
   ]
  },
  {
   "cell_type": "markdown",
   "metadata": {},
   "source": [
    "categorical column 들과 방문 수의 관계\n",
    "\n",
    "- 가입 년-월 \n",
    "- 그룹\n",
    "- 통신사\n",
    "- 앱 버젼"
   ]
  },
  {
   "cell_type": "markdown",
   "metadata": {},
   "source": [
    "가입 년-월 분류:\n",
    "- 2030년 1월 < 3월 < 4월 < 2월 순으로 평균 방문 수.\n",
    "- 2030년 1월은 2,3,4월에 비해 평균 방문수가 낮고 평균 앱로딩 시간도 깁니다. -> 추가로 평균 앱로딩시간이 평균 방문 수의 영향을 미치는지 인과관계 분석을 해봐도 될것."
   ]
  },
  {
   "cell_type": "code",
   "execution_count": null,
   "metadata": {},
   "outputs": [],
   "source": [
    "joined_df.groupby([\"year_month_joined\"]).agg({\n",
    "    \"user_uuid\":\"count\",\n",
    "    \"visits\":{\"mean\", \"sum\"},\n",
    "    \"avg_time_to_interactive\":\"mean\"\n",
    "})"
   ]
  },
  {
   "cell_type": "code",
   "execution_count": null,
   "metadata": {},
   "outputs": [],
   "source": [
    "sns.boxplot(x=joined_df[\"year_month_joined\"],\n",
    "            y=joined_df[\"visits\"],\n",
    "            order=sorted(joined_df[\"year_month_joined\"].unique()))"
   ]
  },
  {
   "cell_type": "code",
   "execution_count": null,
   "metadata": {},
   "outputs": [],
   "source": [
    "joined_df.groupby([\"group\"]).agg({\n",
    "    \"user_uuid\":\"count\",\n",
    "    \"visits\":{\"mean\", \"sum\"},\n",
    "    \"avg_time_to_interactive\":\"mean\"\n",
    "})"
   ]
  },
  {
   "cell_type": "code",
   "execution_count": null,
   "metadata": {},
   "outputs": [],
   "source": [
    "sns.boxplot(x=joined_df[\"group\"],\n",
    "            y=joined_df[\"visits\"])"
   ]
  },
  {
   "cell_type": "code",
   "execution_count": null,
   "metadata": {},
   "outputs": [],
   "source": [
    "joined_df.groupby([\"carrier\"]).agg({\n",
    "    \"user_uuid\":\"count\",\n",
    "    \"visits\":{\"mean\", \"sum\"},\n",
    "    \"avg_time_to_interactive\":\"mean\"\n",
    "})"
   ]
  },
  {
   "cell_type": "code",
   "execution_count": null,
   "metadata": {},
   "outputs": [],
   "source": [
    "sns.boxplot(x=joined_df[\"carrier\"],\n",
    "            y=joined_df[\"visits\"])"
   ]
  },
  {
   "cell_type": "markdown",
   "metadata": {},
   "source": [
    "app_version_joined 분류:\n",
    "- 가입한 버젼 별 평균 방문 수, 큰차이 없음."
   ]
  },
  {
   "cell_type": "code",
   "execution_count": null,
   "metadata": {},
   "outputs": [],
   "source": [
    "joined_df.groupby([\"app_version_joined\"]).agg({\n",
    "    \"user_uuid\":\"count\",\n",
    "    \"visits\":{\"mean\", \"sum\"},\n",
    "    \"avg_time_to_interactive\":\"mean\"\n",
    "})"
   ]
  },
  {
   "cell_type": "code",
   "execution_count": null,
   "metadata": {},
   "outputs": [],
   "source": [
    "sns.boxplot(x=joined_df[\"app_version_joined\"],\n",
    "            y=joined_df[\"visits\"])"
   ]
  },
  {
   "cell_type": "markdown",
   "metadata": {},
   "source": [
    "## 방문 수 예측"
   ]
  },
  {
   "cell_type": "code",
   "execution_count": null,
   "metadata": {},
   "outputs": [],
   "source": [
    "from sklearn.preprocessing import OneHotEncoder\n",
    "from sklearn.preprocessing import StandardScaler\n",
    "from sklearn.model_selection import train_test_split\n",
    "\n",
    "from sklearn.linear_model import LinearRegression\n",
    "from sklearn.metrics import mean_squared_error"
   ]
  },
  {
   "cell_type": "code",
   "execution_count": null,
   "metadata": {},
   "outputs": [],
   "source": [
    "joined_df.head()"
   ]
  },
  {
   "cell_type": "code",
   "execution_count": null,
   "metadata": {},
   "outputs": [],
   "source": [
    "categorical_cols = [\"carrier\", \"group\", \"app_version_joined\"]\n",
    "num_cols = [\"sum_time_to_interactive\", \"avg_time_to_interactive\"]\n",
    "\n",
    "joined_df.drop(columns=[\"user_uuid\"], inplace=True)\n",
    "y = joined_df.pop(\"visits\")\n",
    "X = joined_df"
   ]
  },
  {
   "cell_type": "code",
   "execution_count": null,
   "metadata": {},
   "outputs": [],
   "source": [
    "joined_df[\"year\"] = joined_df[\"year_month_joined\"].dt.year\n",
    "joined_df[\"month\"] = joined_df[\"year_month_joined\"].dt.month"
   ]
  },
  {
   "cell_type": "code",
   "execution_count": null,
   "metadata": {},
   "outputs": [],
   "source": [
    "joined_df.drop(columns=[\"year_month_joined\"], inplace=True)"
   ]
  },
  {
   "cell_type": "code",
   "execution_count": null,
   "metadata": {},
   "outputs": [],
   "source": [
    "X_train, X_test, y_train, y_test = train_test_split(X, y, test_size=0.3, random_state=0)"
   ]
  },
  {
   "cell_type": "code",
   "execution_count": null,
   "metadata": {},
   "outputs": [],
   "source": [
    "X_train = pd.get_dummies(X_train, columns=categorical_cols, drop_first=True)\n",
    "\n",
    "stdscaler = StandardScaler()\n",
    "X_train[num_cols] = stdscaler.fit_transform(X_train[num_cols])"
   ]
  },
  {
   "cell_type": "code",
   "execution_count": null,
   "metadata": {},
   "outputs": [],
   "source": [
    "lin_reg = LinearRegression()"
   ]
  },
  {
   "cell_type": "code",
   "execution_count": null,
   "metadata": {},
   "outputs": [],
   "source": [
    "lin_reg.fit(X_train, y_train)"
   ]
  },
  {
   "cell_type": "code",
   "execution_count": null,
   "metadata": {},
   "outputs": [],
   "source": [
    "X_test = pd.get_dummies(X_test, columns=categorical_cols, drop_first=True)\n",
    "X_test[num_cols] = stdscaler.transform(X_test[num_cols])"
   ]
  },
  {
   "cell_type": "code",
   "execution_count": null,
   "metadata": {},
   "outputs": [],
   "source": [
    "y_train_pred = lin_reg.predict(X_train)\n",
    "y_pred = lin_reg.predict(X_test)"
   ]
  },
  {
   "cell_type": "code",
   "execution_count": null,
   "metadata": {},
   "outputs": [],
   "source": [
    "print(f\"train MSE = {mean_squared_error(y_train, y_train_pred)}\")\n",
    "print(f\"test MSE = {mean_squared_error(y_test, y_pred)}\")"
   ]
  },
  {
   "cell_type": "code",
   "execution_count": null,
   "metadata": {},
   "outputs": [],
   "source": [
    "test_df = pd.concat([X_test, y_test], axis=1)"
   ]
  },
  {
   "cell_type": "code",
   "execution_count": null,
   "metadata": {},
   "outputs": [],
   "source": [
    "test_df[\"y_pred\"] = y_pred"
   ]
  },
  {
   "cell_type": "code",
   "execution_count": null,
   "metadata": {},
   "outputs": [],
   "source": [
    "test_df"
   ]
  },
  {
   "cell_type": "code",
   "execution_count": null,
   "metadata": {},
   "outputs": [],
   "source": [
    "fig = go.Figure()\n",
    "\n",
    "fig.add_trace(\n",
    "    go.Scatter(\n",
    "        x=test_df.index,\n",
    "        y=test_df[\"visits\"],\n",
    "        mode =\"markers\"\n",
    "    )\n",
    ")\n",
    "\n",
    "fig.show()"
   ]
  }
 ],
 "metadata": {
  "kernelspec": {
   "display_name": "Python 3",
   "language": "python",
   "name": "python3"
  },
  "language_info": {
   "codemirror_mode": {
    "name": "ipython",
    "version": 3
   },
   "file_extension": ".py",
   "mimetype": "text/x-python",
   "name": "python",
   "nbconvert_exporter": "python",
   "pygments_lexer": "ipython3",
   "version": "3.7.3"
  },
  "toc": {
   "base_numbering": 1,
   "nav_menu": {},
   "number_sections": true,
   "sideBar": true,
   "skip_h1_title": false,
   "title_cell": "Table of Contents",
   "title_sidebar": "Contents",
   "toc_cell": false,
   "toc_position": {
    "height": "calc(100% - 180px)",
    "left": "10px",
    "top": "150px",
    "width": "200.417px"
   },
   "toc_section_display": true,
   "toc_window_display": false
  }
 },
 "nbformat": 4,
 "nbformat_minor": 4
}
