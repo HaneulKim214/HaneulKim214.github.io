{
 "cells": [
  {
   "cell_type": "markdown",
   "metadata": {},
   "source": [
    "2579 - 계단오르기"
   ]
  },
  {
   "cell_type": "code",
   "execution_count": 48,
   "metadata": {},
   "outputs": [],
   "source": [
    "n = int(input())\n",
    "stairs = [int(input()) for _ in range(n)]\n",
    "\n",
    "\n",
    "def MaxStairs(stairs, n):\n",
    "    dp = [0]*n\n",
    "    dp[-1] = stairs[-1]\n",
    "    dp[-2] = stairs[-2] + stairs[-1]\n",
    "    \n",
    "    if len(stairs) == 2:\n",
    "        return(dp[-2])\n",
    "        \n",
    "\n",
    "    dp[-3] = max(stairs[-1] + stairs[-3], dp[-2])\n",
    "\n",
    "    for i in range(n-4, -1,-1):\n",
    "        dp[i] = max(stairs[i] + stairs[i+1] + dp[i+3], stairs[i]+dp[i+2])\n",
    "        \n",
    "    return dp[0]\n",
    "    \n",
    "print(MaxStairs(stairs, n))"
   ]
  },
  {
   "cell_type": "markdown",
   "metadata": {},
   "source": [
    "1463 - 1로 만들기 <br>\n",
    "https://jobc.tistory.com/151 <-- 개깔끔"
   ]
  },
  {
   "cell_type": "code",
   "execution_count": 117,
   "metadata": {},
   "outputs": [
    {
     "name": "stdout",
     "output_type": "stream",
     "text": [
      "5\n",
      "3\n"
     ]
    }
   ],
   "source": [
    "n = int(input())\n",
    "dp = [0,0,1,1]\n",
    "\n",
    "for i in range(4, n+1):\n",
    "    dp.append(dp[i-1] + 1)\n",
    "    if i % 2 == 0:\n",
    "        dp[i] = min(dp[i], dp[i//2] + 1)\n",
    "    if i % 3 == 0:\n",
    "        dp[i] = min(dp[i], dp[i//3] + 1)\n",
    "        \n",
    "print(dp[-1])"
   ]
  },
  {
   "cell_type": "markdown",
   "metadata": {},
   "source": [
    "10844 - 쉬운 계단 수"
   ]
  },
  {
   "cell_type": "code",
   "execution_count": 124,
   "metadata": {},
   "outputs": [
    {
     "name": "stdout",
     "output_type": "stream",
     "text": [
      "2\n",
      "2\n"
     ]
    }
   ],
   "source": [
    "def Factorial(n):\n",
    "    final = 1\n",
    "    while n != 1:\n",
    "        final *= n\n",
    "        n -= 1\n",
    "    return final\n",
    "\n",
    "n = int(input())\n",
    "\n",
    "print(Factorial(n))"
   ]
  },
  {
   "cell_type": "code",
   "execution_count": 148,
   "metadata": {},
   "outputs": [
    {
     "name": "stdout",
     "output_type": "stream",
     "text": [
      "3\n",
      "34\n"
     ]
    }
   ],
   "source": [
    "n = int(input())\n",
    "init = 9\n",
    "final = 9\n",
    "exp = 2**(n-1)\n",
    "\n",
    "print(final*exp-(n-1))"
   ]
  },
  {
   "cell_type": "code",
   "execution_count": 122,
   "metadata": {},
   "outputs": [
    {
     "data": {
      "text/plain": [
       "24"
      ]
     },
     "execution_count": 122,
     "metadata": {},
     "output_type": "execute_result"
    }
   ],
   "source": []
  }
 ],
 "metadata": {
  "kernelspec": {
   "display_name": "Python 3",
   "language": "python",
   "name": "python3"
  },
  "language_info": {
   "codemirror_mode": {
    "name": "ipython",
    "version": 3
   },
   "file_extension": ".py",
   "mimetype": "text/x-python",
   "name": "python",
   "nbconvert_exporter": "python",
   "pygments_lexer": "ipython3",
   "version": "3.7.3"
  }
 },
 "nbformat": 4,
 "nbformat_minor": 2
}
