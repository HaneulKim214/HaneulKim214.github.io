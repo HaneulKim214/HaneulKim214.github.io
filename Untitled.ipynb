{
 "cells": [
  {
   "cell_type": "code",
   "execution_count": 112,
   "metadata": {},
   "outputs": [],
   "source": [
    "# sticks = [1,1,1,2,3]\n",
    "# sticks = [1,1,1,3,3]\n",
    "sticks = [1,2,3]"
   ]
  },
  {
   "cell_type": "code",
   "execution_count": 113,
   "metadata": {},
   "outputs": [],
   "source": [
    "def check_valid_tri(triangle):\n",
    "    \"\"\"if sum of two sides > another side then it is valid triangle\"\"\"\n",
    "    a = triangle[0]\n",
    "    b = triangle[1]\n",
    "    c = triangle[2]\n",
    "    \n",
    "    if (a + b > c) & (a + c > b) & (b + c > a):\n",
    "        return True\n",
    "    else:\n",
    "        return False"
   ]
  },
  {
   "cell_type": "code",
   "execution_count": 114,
   "metadata": {},
   "outputs": [],
   "source": [
    "def maximumPerimeterTriangle(sticks):\n",
    "    sticks.sort()\n",
    "    \n",
    "    triangles = []\n",
    "\n",
    "    for i, st in enumerate(sticks):\n",
    "        \n",
    "        triangle = sticks[i:3+i]\n",
    "        if len(triangle) < 3: \n",
    "            continue\n",
    "            \n",
    "        if check_valid_tri(triangle):\n",
    "            triangles.append(triangle)\n",
    "              \n",
    "    if len(triangles) == 0:\n",
    "        return -1\n",
    "    elif len(triangles) == 1:\n",
    "        triangles[0].sort()\n",
    "\n",
    "        return triangles[0]\n",
    "    else:\n",
    "        return triangles[-1]\n",
    "        "
   ]
  },
  {
   "cell_type": "code",
   "execution_count": 115,
   "metadata": {},
   "outputs": [],
   "source": [
    "triangles = maximumPerimeterTriangle(sticks)"
   ]
  },
  {
   "cell_type": "code",
   "execution_count": 116,
   "metadata": {},
   "outputs": [
    {
     "data": {
      "text/plain": [
       "-1"
      ]
     },
     "execution_count": 116,
     "metadata": {},
     "output_type": "execute_result"
    }
   ],
   "source": [
    "triangles"
   ]
  },
  {
   "cell_type": "code",
   "execution_count": null,
   "metadata": {},
   "outputs": [],
   "source": []
  }
 ],
 "metadata": {
  "kernelspec": {
   "display_name": "Python 3",
   "language": "python",
   "name": "python3"
  },
  "language_info": {
   "codemirror_mode": {
    "name": "ipython",
    "version": 3
   },
   "file_extension": ".py",
   "mimetype": "text/x-python",
   "name": "python",
   "nbconvert_exporter": "python",
   "pygments_lexer": "ipython3",
   "version": "3.7.3"
  }
 },
 "nbformat": 4,
 "nbformat_minor": 2
}
