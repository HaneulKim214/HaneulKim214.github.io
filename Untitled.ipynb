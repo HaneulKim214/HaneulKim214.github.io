{
 "cells": [
  {
   "cell_type": "code",
   "execution_count": 32,
   "metadata": {},
   "outputs": [],
   "source": [
    "# sticks = [1,1,1,2,3]\n",
    "# sticks = [1,1,1,3,3]\n",
    "# sticks = [1,2,3]\n",
    "\n",
    "# sticks = [1,1,1,2,2,2]\n",
    "sticks = [5,4,2, 2]"
   ]
  },
  {
   "cell_type": "code",
   "execution_count": 33,
   "metadata": {},
   "outputs": [],
   "source": [
    "def check_valid_tri(triangle):\n",
    "    \"\"\"if sum of two sides > another side then it is valid triangle\"\"\"\n",
    "    a = triangle[0]\n",
    "    b = triangle[1]\n",
    "    c = triangle[2]\n",
    "    \n",
    "    if (a + b > c) & (a + c > b) & (b + c > a):\n",
    "        return True\n",
    "    else:\n",
    "        return False"
   ]
  },
  {
   "cell_type": "code",
   "execution_count": 34,
   "metadata": {},
   "outputs": [],
   "source": [
    "def maximumPerimeterTriangle(sticks):\n",
    "    sticks.sort()\n",
    "    \n",
    "    triangles = []\n",
    "\n",
    "    for i, st in enumerate(sticks):\n",
    "        \n",
    "        triangle = sticks[i:3+i]\n",
    "        if len(triangle) < 3: \n",
    "            continue\n",
    "            \n",
    "        if check_valid_tri(triangle):\n",
    "            triangles.append(triangle)\n",
    "    \n",
    "    print(triangles)\n",
    "    if len(triangles) == 0:\n",
    "        return -1\n",
    "    elif len(triangles) == 1:\n",
    "        triangles[0].sort()\n",
    "\n",
    "        return triangles[0]\n",
    "    else:\n",
    "        return triangles[-1]\n",
    "        "
   ]
  },
  {
   "cell_type": "code",
   "execution_count": 35,
   "metadata": {},
   "outputs": [
    {
     "name": "stdout",
     "output_type": "stream",
     "text": [
      "[[2, 4, 5]]\n"
     ]
    }
   ],
   "source": [
    "triangles = maximumPerimeterTriangle(sticks)"
   ]
  },
  {
   "cell_type": "code",
   "execution_count": 36,
   "metadata": {},
   "outputs": [
    {
     "data": {
      "text/plain": [
       "[2, 4, 5]"
      ]
     },
     "execution_count": 36,
     "metadata": {},
     "output_type": "execute_result"
    }
   ],
   "source": [
    "triangles"
   ]
  },
  {
   "cell_type": "code",
   "execution_count": 5,
   "metadata": {},
   "outputs": [],
   "source": [
    "k = 3\n",
    "arr = [9,56,5,4,3,1]"
   ]
  },
  {
   "cell_type": "code",
   "execution_count": 6,
   "metadata": {},
   "outputs": [],
   "source": [
    "def largestPermutation(k, arr): \n",
    "    n = len(arr)\n",
    "    # Auxiliary array of storing the position of elements \n",
    "    pos = {} \n",
    "    for i in range(n): \n",
    "        pos[arr[i]] = i \n",
    "  \n",
    "    for i in range(n): \n",
    "  \n",
    "        # If K is exhausted then break the loop \n",
    "        if k == 0: \n",
    "            break\n",
    "  \n",
    "        # If element is already largest then no need to swap \n",
    "        if (arr[i] == n-i): \n",
    "            continue\n",
    "  \n",
    "        # Find position of i'th largest value, n-i \n",
    "        temp = pos[n-i] \n",
    "  \n",
    "        # Swap the elements position \n",
    "        pos[arr[i]] = pos[n-i] \n",
    "        pos[n-i] = i \n",
    "  \n",
    "        # Swap the ith largest value with the value at  \n",
    "        # ith place \n",
    "        arr[temp], arr[i] = arr[i], arr[temp] \n",
    "  \n",
    "        # Decrement K after swap \n",
    "        k = k-1\n",
    "    return arr"
   ]
  },
  {
   "cell_type": "code",
   "execution_count": 7,
   "metadata": {},
   "outputs": [
    {
     "ename": "KeyError",
     "evalue": "6",
     "output_type": "error",
     "traceback": [
      "\u001b[1;31m---------------------------------------------------------------------------\u001b[0m",
      "\u001b[1;31mKeyError\u001b[0m                                  Traceback (most recent call last)",
      "\u001b[1;32m<ipython-input-7-2edf17aa0c73>\u001b[0m in \u001b[0;36m<module>\u001b[1;34m\u001b[0m\n\u001b[1;32m----> 1\u001b[1;33m \u001b[0mnew_arr\u001b[0m \u001b[1;33m=\u001b[0m \u001b[0mlargestPermutation\u001b[0m\u001b[1;33m(\u001b[0m\u001b[0mk\u001b[0m\u001b[1;33m,\u001b[0m \u001b[0marr\u001b[0m\u001b[1;33m)\u001b[0m\u001b[1;33m\u001b[0m\u001b[1;33m\u001b[0m\u001b[0m\n\u001b[0m",
      "\u001b[1;32m<ipython-input-6-e7c69be4bf59>\u001b[0m in \u001b[0;36mlargestPermutation\u001b[1;34m(k, arr)\u001b[0m\n\u001b[0;32m     17\u001b[0m \u001b[1;33m\u001b[0m\u001b[0m\n\u001b[0;32m     18\u001b[0m         \u001b[1;31m# Find position of i'th largest value, n-i\u001b[0m\u001b[1;33m\u001b[0m\u001b[1;33m\u001b[0m\u001b[1;33m\u001b[0m\u001b[0m\n\u001b[1;32m---> 19\u001b[1;33m         \u001b[0mtemp\u001b[0m \u001b[1;33m=\u001b[0m \u001b[0mpos\u001b[0m\u001b[1;33m[\u001b[0m\u001b[0mn\u001b[0m\u001b[1;33m-\u001b[0m\u001b[0mi\u001b[0m\u001b[1;33m]\u001b[0m\u001b[1;33m\u001b[0m\u001b[1;33m\u001b[0m\u001b[0m\n\u001b[0m\u001b[0;32m     20\u001b[0m \u001b[1;33m\u001b[0m\u001b[0m\n\u001b[0;32m     21\u001b[0m         \u001b[1;31m# Swap the elements position\u001b[0m\u001b[1;33m\u001b[0m\u001b[1;33m\u001b[0m\u001b[1;33m\u001b[0m\u001b[0m\n",
      "\u001b[1;31mKeyError\u001b[0m: 6"
     ]
    }
   ],
   "source": [
    "new_arr = largestPermutation(k, arr)"
   ]
  },
  {
   "cell_type": "code",
   "execution_count": 282,
   "metadata": {},
   "outputs": [
    {
     "name": "stdout",
     "output_type": "stream",
     "text": [
      "[56, 9, 5, 4, 3, 1]\n"
     ]
    }
   ],
   "source": [
    "print(new_arr)"
   ]
  },
  {
   "cell_type": "code",
   "execution_count": null,
   "metadata": {},
   "outputs": [],
   "source": []
  }
 ],
 "metadata": {
  "kernelspec": {
   "display_name": "Python 3",
   "language": "python",
   "name": "python3"
  },
  "language_info": {
   "codemirror_mode": {
    "name": "ipython",
    "version": 3
   },
   "file_extension": ".py",
   "mimetype": "text/x-python",
   "name": "python",
   "nbconvert_exporter": "python",
   "pygments_lexer": "ipython3",
   "version": "3.7.3"
  }
 },
 "nbformat": 4,
 "nbformat_minor": 2
}
