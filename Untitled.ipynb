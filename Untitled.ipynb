{
 "cells": [
  {
   "cell_type": "markdown",
   "metadata": {},
   "source": [
    "### #3 단어변환"
   ]
  },
  {
   "cell_type": "code",
   "execution_count": null,
   "metadata": {},
   "outputs": [],
   "source": [
    "queue = []"
   ]
  },
  {
   "cell_type": "code",
   "execution_count": 1,
   "metadata": {},
   "outputs": [],
   "source": [
    "def solution(begin, target, words):\n",
    "    answer = 0\n",
    "    \n",
    "    \n",
    "    \n",
    "    if target not in words:\n",
    "        return 0\n",
    "    return answer"
   ]
  },
  {
   "cell_type": "code",
   "execution_count": null,
   "metadata": {},
   "outputs": [],
   "source": [
    "solution(\"hit\", \"cog\", [\"hot\", \"dot\", \"dog\", \"lot\", \"log\", \"cog\"])"
   ]
  },
  {
   "cell_type": "code",
   "execution_count": 10,
   "metadata": {},
   "outputs": [],
   "source": [
    "def dfs(now, target, words, history=[], depth=0):\n",
    "    global min_\n",
    "    print(now, history)\n",
    "    print(min_)\n",
    "    if now == target:\n",
    "        min_ = min(min_, depth)\n",
    "\n",
    "    if depth >= min_:\n",
    "        return \"Uh on\"\n",
    "\n",
    "    for word in words:\n",
    "        if word in history:\n",
    "            continue\n",
    "        cnt = 0\n",
    "        for i in range(len(target)):\n",
    "            if word[i] != now[i]:\n",
    "                cnt += 1\n",
    "            if cnt > 1:\n",
    "                break\n",
    "        if cnt == 1 and word not in history:\n",
    "            history.append(word)\n",
    "            dfs(word, target, words, history, depth+1)\n",
    "            history.pop(-1)\n",
    "\n",
    "min_ = 51\n",
    "def solution(begin, target, words):\n",
    "    global min_\n",
    "    if target not in words:\n",
    "        return 0\n",
    "    dfs(begin, target, words)\n",
    "    return min_\n",
    "    "
   ]
  },
  {
   "cell_type": "code",
   "execution_count": 23,
   "metadata": {},
   "outputs": [],
   "source": [
    "min_ = 51\n",
    "\n",
    "def testing():\n",
    "    print(min_)"
   ]
  },
  {
   "cell_type": "code",
   "execution_count": 24,
   "metadata": {},
   "outputs": [
    {
     "name": "stdout",
     "output_type": "stream",
     "text": [
      "51\n"
     ]
    }
   ],
   "source": [
    "testing()"
   ]
  },
  {
   "cell_type": "code",
   "execution_count": 11,
   "metadata": {},
   "outputs": [
    {
     "name": "stdout",
     "output_type": "stream",
     "text": [
      "hit []\n",
      "51\n",
      "hot ['hot']\n",
      "51\n",
      "dot ['hot', 'dot']\n",
      "51\n",
      "dog ['hot', 'dot', 'dog']\n",
      "51\n",
      "log ['hot', 'dot', 'dog', 'log']\n",
      "51\n",
      "lot ['hot', 'dot', 'dog', 'log', 'lot']\n",
      "51\n",
      "cog ['hot', 'dot', 'dog', 'log', 'cog']\n",
      "51\n",
      "cog ['hot', 'dot', 'dog', 'cog']\n",
      "5\n",
      "lot ['hot', 'dot', 'lot']\n",
      "4\n",
      "log ['hot', 'dot', 'lot', 'log']\n",
      "4\n",
      "lot ['hot', 'lot']\n",
      "4\n",
      "dot ['hot', 'lot', 'dot']\n",
      "4\n",
      "dog ['hot', 'lot', 'dot', 'dog']\n",
      "4\n",
      "log ['hot', 'lot', 'log']\n",
      "4\n",
      "dog ['hot', 'lot', 'log', 'dog']\n",
      "4\n",
      "cog ['hot', 'lot', 'log', 'cog']\n",
      "4\n"
     ]
    },
    {
     "data": {
      "text/plain": [
       "4"
      ]
     },
     "execution_count": 11,
     "metadata": {},
     "output_type": "execute_result"
    }
   ],
   "source": [
    "solution(\"hit\", \"cog\", [\"hot\", \"dot\", \"dog\", \"lot\", \"log\", \"cog\"])"
   ]
  },
  {
   "cell_type": "code",
   "execution_count": 4,
   "metadata": {},
   "outputs": [],
   "source": [
    "lst = [1,3,5]"
   ]
  },
  {
   "cell_type": "code",
   "execution_count": 5,
   "metadata": {},
   "outputs": [],
   "source": [
    "\n",
    "lst.remove(3)"
   ]
  },
  {
   "cell_type": "code",
   "execution_count": 6,
   "metadata": {},
   "outputs": [
    {
     "data": {
      "text/plain": [
       "[1, 5]"
      ]
     },
     "execution_count": 6,
     "metadata": {},
     "output_type": "execute_result"
    }
   ],
   "source": [
    "lst"
   ]
  },
  {
   "cell_type": "code",
   "execution_count": 8,
   "metadata": {},
   "outputs": [],
   "source": [
    "def solution(n, lost, reserve):\n",
    "    _reserve = [r for r in reserve if r not in lost]\n",
    "    _lost = [l for l in lost if l not in reserve]\n",
    "    \n",
    "    for r in _reserve:\n",
    "        f = r - 1\n",
    "        b = r + 1\n",
    "        \n",
    "        if f in _lost:\n",
    "            _lost.remove(f)\n",
    "        elif b in _lost:\n",
    "            _lost.remove(b)\n",
    "    return n - len(_lost)"
   ]
  },
  {
   "cell_type": "code",
   "execution_count": 23,
   "metadata": {},
   "outputs": [],
   "source": [
    "def solution(n, lost, reserve):\n",
    "    \n",
    "    for r in reserve:\n",
    "        if r in lost:\n",
    "            lost.remove(r)\n",
    "            continue\n",
    "    \n",
    "        f = r - 1\n",
    "        b = r + 1\n",
    "        \n",
    "        if f in lost:\n",
    "            lost.remove(f)\n",
    "        elif b in lost:\n",
    "            lost.remove(b)\n",
    "            \n",
    "    return n - len(lost)"
   ]
  },
  {
   "cell_type": "code",
   "execution_count": 55,
   "metadata": {},
   "outputs": [
    {
     "data": {
      "text/plain": [
       "4"
      ]
     },
     "execution_count": 55,
     "metadata": {},
     "output_type": "execute_result"
    }
   ],
   "source": [
    "n = 5\n",
    "lost = [4.5]\n",
    "reserve = [3]\n",
    "\n",
    "solution(n, lost, reserve)"
   ]
  },
  {
   "cell_type": "code",
   "execution_count": 164,
   "metadata": {},
   "outputs": [],
   "source": [
    "def sol(number, k):\n",
    "    num_list = [int(n) for n in number]\n",
    "    \n",
    "    for i in range(len(num_list)):\n",
    "        print(num_list)\n",
    "        if k == 0:\n",
    "            return \"\".join([str(n) for n in num_list])\n",
    "        \n",
    "        if num_list[i] < num_list[i+1]:\n",
    "            print(num_list[i], num_list[i+1])\n",
    "            num_list.remove(num_list[i])\n",
    "            k -= 1"
   ]
  },
  {
   "cell_type": "code",
   "execution_count": 170,
   "metadata": {},
   "outputs": [
    {
     "data": {
      "text/plain": [
       "1"
      ]
     },
     "execution_count": 170,
     "metadata": {},
     "output_type": "execute_result"
    }
   ],
   "source": [
    "\"1924\".index(max(\"1924\"[:3]))"
   ]
  },
  {
   "cell_type": "code",
   "execution_count": 173,
   "metadata": {},
   "outputs": [],
   "source": [
    "def solution(number, k):\n",
    "    collected = []\n",
    "\n",
    "    for (i, num) in enumerate(number):\n",
    "        while collected and collected[-1] < num and k > 0:\n",
    "            collected.pop()\n",
    "            k -= 1\n",
    "        \n",
    "        if k == 0:\n",
    "            collected += number[i:]\n",
    "            break\n",
    "\n",
    "        collected.append(num)\n",
    "\n",
    "    collected = collected[:-k] if k > 0 else collected\n",
    "    answer = \"\".join(collected)\n",
    "    return answer"
   ]
  },
  {
   "cell_type": "code",
   "execution_count": 174,
   "metadata": {},
   "outputs": [
    {
     "name": "stdout",
     "output_type": "stream",
     "text": [
      "['9', '4']\n"
     ]
    },
    {
     "data": {
      "text/plain": [
       "'94'"
      ]
     },
     "execution_count": 174,
     "metadata": {},
     "output_type": "execute_result"
    }
   ],
   "source": [
    "solution(\"1924\", 2)"
   ]
  },
  {
   "cell_type": "code",
   "execution_count": 183,
   "metadata": {},
   "outputs": [],
   "source": [
    "lst = [\"9\", \"2\"]"
   ]
  },
  {
   "cell_type": "code",
   "execution_count": 184,
   "metadata": {},
   "outputs": [
    {
     "data": {
      "text/plain": [
       "'2'"
      ]
     },
     "execution_count": 184,
     "metadata": {},
     "output_type": "execute_result"
    }
   ],
   "source": [
    "lst.pop()"
   ]
  },
  {
   "cell_type": "code",
   "execution_count": 191,
   "metadata": {},
   "outputs": [],
   "source": [
    "lst = [\"9\"]"
   ]
  },
  {
   "cell_type": "code",
   "execution_count": 197,
   "metadata": {},
   "outputs": [],
   "source": [
    "number = \"19245\""
   ]
  },
  {
   "cell_type": "code",
   "execution_count": 198,
   "metadata": {},
   "outputs": [],
   "source": [
    "lst += number[3:]"
   ]
  },
  {
   "cell_type": "code",
   "execution_count": 199,
   "metadata": {},
   "outputs": [
    {
     "data": {
      "text/plain": [
       "['9', '4', '4', '5']"
      ]
     },
     "execution_count": 199,
     "metadata": {},
     "output_type": "execute_result"
    }
   ],
   "source": [
    "lst"
   ]
  },
  {
   "cell_type": "code",
   "execution_count": 1,
   "metadata": {},
   "outputs": [],
   "source": [
    "lst = [0,0,0,0,0]"
   ]
  },
  {
   "cell_type": "code",
   "execution_count": 2,
   "metadata": {},
   "outputs": [
    {
     "data": {
      "text/plain": [
       "0"
      ]
     },
     "execution_count": 2,
     "metadata": {},
     "output_type": "execute_result"
    }
   ],
   "source": [
    "lst.pop()"
   ]
  },
  {
   "cell_type": "code",
   "execution_count": 4,
   "metadata": {},
   "outputs": [],
   "source": [
    "lst = [1,2,3,4]"
   ]
  },
  {
   "cell_type": "code",
   "execution_count": 5,
   "metadata": {},
   "outputs": [
    {
     "data": {
      "text/plain": [
       "4"
      ]
     },
     "execution_count": 5,
     "metadata": {},
     "output_type": "execute_result"
    }
   ],
   "source": [
    "lst.pop()"
   ]
  },
  {
   "cell_type": "code",
   "execution_count": 6,
   "metadata": {},
   "outputs": [
    {
     "data": {
      "text/plain": [
       "[1, 2, 3]"
      ]
     },
     "execution_count": 6,
     "metadata": {},
     "output_type": "execute_result"
    }
   ],
   "source": [
    "lst"
   ]
  },
  {
   "cell_type": "code",
   "execution_count": 55,
   "metadata": {},
   "outputs": [],
   "source": [
    "def solution(board, moves):\n",
    "    basket = []\n",
    "    answer = 0\n",
    "    moves = [x-1 for x in moves]\n",
    "    for move in moves:\n",
    "        picked = board[move].pop()\n",
    "        if picked == 0:\n",
    "            continue\n",
    "            \n",
    "        basket.append(picked)\n",
    "        \n",
    "        if picked == basket[-1]:\n",
    "            basket.pop()\n",
    "            answer += 2\n",
    "        else:\n",
    "            basket.append(picked)\n",
    "        print(basket)\n",
    "    return answer"
   ]
  },
  {
   "cell_type": "code",
   "execution_count": 59,
   "metadata": {},
   "outputs": [],
   "source": [
    "board = [[0,0,0,0,0],[0,0,1,0,3],[0,2,5,0,1],[4,2,4,4,2],[3,5,1,3,1]]\n",
    "moves = [1,5,3,5,1,2,1,4]"
   ]
  },
  {
   "cell_type": "code",
   "execution_count": 60,
   "metadata": {},
   "outputs": [
    {
     "data": {
      "text/plain": [
       "[[0, 0, 0, 0, 0],\n",
       " [0, 0, 1, 0, 3],\n",
       " [0, 2, 5, 0, 1],\n",
       " [4, 2, 4, 4, 2],\n",
       " [3, 5, 1, 3, 1]]"
      ]
     },
     "execution_count": 60,
     "metadata": {},
     "output_type": "execute_result"
    }
   ],
   "source": [
    "board"
   ]
  },
  {
   "cell_type": "code",
   "execution_count": null,
   "metadata": {},
   "outputs": [],
   "source": []
  },
  {
   "cell_type": "markdown",
   "metadata": {},
   "source": [
    "### #5 완주하지 못한 선수"
   ]
  },
  {
   "cell_type": "code",
   "execution_count": 63,
   "metadata": {},
   "outputs": [],
   "source": [
    "participants = [\"leo\", \"kiki\", \"eden\"]\n",
    "completion = [\"eden\", \"kiki\"]"
   ]
  },
  {
   "cell_type": "code",
   "execution_count": 65,
   "metadata": {},
   "outputs": [
    {
     "data": {
      "text/plain": [
       "-621333634940143186"
      ]
     },
     "execution_count": 65,
     "metadata": {},
     "output_type": "execute_result"
    }
   ],
   "source": [
    "hash(\"leo\")"
   ]
  },
  {
   "cell_type": "code",
   "execution_count": 64,
   "metadata": {},
   "outputs": [
    {
     "name": "stdout",
     "output_type": "stream",
     "text": [
      "{-621333634940143186: 'leo'}\n",
      "-621333634940143186\n",
      "{-621333634940143186: 'leo', -4850168404787053639: 'kiki'}\n",
      "-5471502039727196825\n",
      "{-621333634940143186: 'leo', -4850168404787053639: 'kiki', 8772913039982913980: 'eden'}\n",
      "3301411000255717155\n"
     ]
    }
   ],
   "source": [
    "dic = {}\n",
    "temp = 0\n",
    "for p in participants:\n",
    "    dic[hash(p)] = p\n",
    "    temp += int(hash(p))\n",
    "    print(dic)\n",
    "    print(temp)"
   ]
  },
  {
   "cell_type": "code",
   "execution_count": 43,
   "metadata": {},
   "outputs": [],
   "source": [
    "from collections import defaultdict"
   ]
  },
  {
   "cell_type": "code",
   "execution_count": 51,
   "metadata": {},
   "outputs": [],
   "source": [
    "table = defaultdict(int)\n",
    "for p in participants:\n",
    "    table[p] += 1\n",
    "for c in completion:\n",
    "    table[c] -= 1\n",
    "list(table.keys())[list(table.values()).index(1)]"
   ]
  },
  {
   "cell_type": "code",
   "execution_count": 52,
   "metadata": {},
   "outputs": [
    {
     "data": {
      "text/plain": [
       "defaultdict(int, {'leo': 1, 'kiki': 0, 'eden': 0})"
      ]
     },
     "execution_count": 52,
     "metadata": {},
     "output_type": "execute_result"
    }
   ],
   "source": [
    "table"
   ]
  },
  {
   "cell_type": "code",
   "execution_count": 53,
   "metadata": {},
   "outputs": [
    {
     "data": {
      "text/plain": [
       "dict_keys(['leo', 'kiki', 'eden'])"
      ]
     },
     "execution_count": 53,
     "metadata": {},
     "output_type": "execute_result"
    }
   ],
   "source": [
    "table.keys()"
   ]
  },
  {
   "cell_type": "code",
   "execution_count": 62,
   "metadata": {},
   "outputs": [
    {
     "data": {
      "text/plain": [
       "'leo'"
      ]
     },
     "execution_count": 62,
     "metadata": {},
     "output_type": "execute_result"
    }
   ],
   "source": [
    "list(table.keys())[list(table.values()).index(1)]"
   ]
  },
  {
   "cell_type": "code",
   "execution_count": 60,
   "metadata": {},
   "outputs": [
    {
     "data": {
      "text/plain": [
       "0"
      ]
     },
     "execution_count": 60,
     "metadata": {},
     "output_type": "execute_result"
    }
   ],
   "source": [
    "list(table.values()).index(1)"
   ]
  },
  {
   "cell_type": "markdown",
   "metadata": {},
   "source": [
    "### #5 전화번호 목록"
   ]
  },
  {
   "cell_type": "code",
   "execution_count": 1,
   "metadata": {},
   "outputs": [
    {
     "data": {
      "text/plain": [
       "-669386040609501396"
      ]
     },
     "execution_count": 1,
     "metadata": {},
     "output_type": "execute_result"
    }
   ],
   "source": [
    "hash(\"12\")"
   ]
  },
  {
   "cell_type": "code",
   "execution_count": 8,
   "metadata": {},
   "outputs": [
    {
     "data": {
      "text/plain": [
       "-4043755917551859214"
      ]
     },
     "execution_count": 8,
     "metadata": {},
     "output_type": "execute_result"
    }
   ],
   "source": [
    "hash(\"123\")"
   ]
  },
  {
   "cell_type": "code",
   "execution_count": 5,
   "metadata": {},
   "outputs": [
    {
     "data": {
      "text/plain": [
       "-6276250500577098149"
      ]
     },
     "execution_count": 5,
     "metadata": {},
     "output_type": "execute_result"
    }
   ],
   "source": [
    "hash(\"123456\") - hash(\"456\")"
   ]
  },
  {
   "cell_type": "code",
   "execution_count": 13,
   "metadata": {},
   "outputs": [],
   "source": [
    "phone_book = [\"119\", \"97674223\", \"1195524421\"]"
   ]
  },
  {
   "cell_type": "code",
   "execution_count": 14,
   "metadata": {},
   "outputs": [
    {
     "data": {
      "text/plain": [
       "True"
      ]
     },
     "execution_count": 14,
     "metadata": {},
     "output_type": "execute_result"
    }
   ],
   "source": [
    "\"119\" in phone_book[2]"
   ]
  },
  {
   "cell_type": "code",
   "execution_count": 72,
   "metadata": {},
   "outputs": [],
   "source": [
    "def solution(phone_book):\n",
    "    answer = True\n",
    "    \n",
    "    for i in range(len(phone_book)):\n",
    "        check_number = phone_book[i]\n",
    "        num_length   = len(check_number)\n",
    "        \n",
    "        for j in range(len(phone_book)):\n",
    "            if i == j: continue\n",
    "            if check_number == phone_book[j][:num_length]:\n",
    "                return False\n",
    "    return answer"
   ]
  },
  {
   "cell_type": "code",
   "execution_count": 77,
   "metadata": {},
   "outputs": [],
   "source": [
    "# phone_book = [\"119\", \"97674223\", \"1195524421\"]\n",
    "phone_book = [\"123\", \"456\", \"789\"]\n",
    "# phone_book = [\"12\", \"123\", \"1235\", \"567\", \"88\"]\n",
    "# phone_book = [\"1\", \"2\", \"3\", \"11\"]\n",
    "# phone_book = [\"1195524421\",\"119\", \"97674223\"]"
   ]
  },
  {
   "cell_type": "code",
   "execution_count": 78,
   "metadata": {},
   "outputs": [
    {
     "data": {
      "text/plain": [
       "True"
      ]
     },
     "execution_count": 78,
     "metadata": {},
     "output_type": "execute_result"
    }
   ],
   "source": [
    "solution(phone_book)"
   ]
  },
  {
   "cell_type": "code",
   "execution_count": 64,
   "metadata": {},
   "outputs": [
    {
     "data": {
      "text/plain": [
       "'1'"
      ]
     },
     "execution_count": 64,
     "metadata": {},
     "output_type": "execute_result"
    }
   ],
   "source": [
    "\"123\"[:1]"
   ]
  },
  {
   "cell_type": "code",
   "execution_count": 65,
   "metadata": {},
   "outputs": [],
   "source": [
    "lst = \"123\""
   ]
  },
  {
   "cell_type": "code",
   "execution_count": 66,
   "metadata": {},
   "outputs": [
    {
     "data": {
      "text/plain": [
       "'12'"
      ]
     },
     "execution_count": 66,
     "metadata": {},
     "output_type": "execute_result"
    }
   ],
   "source": [
    "lst[:2]"
   ]
  },
  {
   "cell_type": "code",
   "execution_count": 1,
   "metadata": {},
   "outputs": [],
   "source": [
    "def solution(clothes):\n",
    "    answer = 0 \n",
    "    hashmap = {}\n",
    "    \n",
    "    for clth in clothes:\n",
    "        hashmap[clth[1]] = clth[0]\n",
    "    \n",
    "    return answer"
   ]
  },
  {
   "cell_type": "code",
   "execution_count": 73,
   "metadata": {},
   "outputs": [],
   "source": [
    "# clothes = [[\"yellow_hat\", \"headgear\"], [\"sung\", \"eyewear\"], [\"turban\", \"headgear\"]]\n",
    "# clothes = [[\"a\", \"face\"], [\"b\", \"face\"], [\"c\", \"face\"]]\n",
    "clothes = [[\"yellow_hat\", \"headgear\"], [\"sung\", \"eyewear\"], [\"tshirt\", \"top\"]]"
   ]
  },
  {
   "cell_type": "code",
   "execution_count": 96,
   "metadata": {},
   "outputs": [],
   "source": [
    "import numpy as np\n",
    "\n",
    "def solution(clothes):\n",
    "    hashmap = {}\n",
    "    \n",
    "    for c in clothes:\n",
    "        if c[1] in hashmap:\n",
    "            hashmap[c[1]].append(c[0])\n",
    "        else:\n",
    "            hashmap[c[1]] = [c[0]]\n",
    "    print(hashmap)\n",
    "            \n",
    "    count_per_group = [len(value) for value in hashmap.values()]\n",
    "    print(np.prod([c+1 for c in count_per_group]))\n",
    "    \n",
    "    return sum(count_per_group) + np.prod(count_per_group)"
   ]
  },
  {
   "cell_type": "code",
   "execution_count": 97,
   "metadata": {},
   "outputs": [
    {
     "name": "stdout",
     "output_type": "stream",
     "text": [
      "{'headgear': ['yellow_hat'], 'eyewear': ['sung'], 'top': ['tshirt']}\n",
      "8\n"
     ]
    },
    {
     "data": {
      "text/plain": [
       "4"
      ]
     },
     "execution_count": 97,
     "metadata": {},
     "output_type": "execute_result"
    }
   ],
   "source": [
    "solution(clothes)"
   ]
  },
  {
   "cell_type": "code",
   "execution_count": 107,
   "metadata": {},
   "outputs": [],
   "source": [
    "import numpy as np\n",
    "\n",
    "def solution(clothes):\n",
    "    hashmap = {}\n",
    "    for c in clothes:\n",
    "        count = 1\n",
    "        if c[1] in hashmap:\n",
    "            count += 1\n",
    "            hashmap[c[1]] = count\n",
    "        else:\n",
    "            hashmap[c[1]] = count\n",
    "            \n",
    "    count_per_group = list(hashmap.values()) \n",
    "    return np.prod([c+1 for c in count_per_group]) -1"
   ]
  },
  {
   "cell_type": "code",
   "execution_count": 102,
   "metadata": {},
   "outputs": [],
   "source": [
    "a = {'headgear': 1, 'eyewear': 1, 'top': 1}"
   ]
  },
  {
   "cell_type": "code",
   "execution_count": 106,
   "metadata": {},
   "outputs": [
    {
     "data": {
      "text/plain": [
       "[dict_values([1, 1, 1])]"
      ]
     },
     "execution_count": 106,
     "metadata": {},
     "output_type": "execute_result"
    }
   ],
   "source": [
    "[a.values()"
   ]
  },
  {
   "cell_type": "code",
   "execution_count": 108,
   "metadata": {},
   "outputs": [
    {
     "data": {
      "text/plain": [
       "7"
      ]
     },
     "execution_count": 108,
     "metadata": {},
     "output_type": "execute_result"
    }
   ],
   "source": [
    "solution(clothes)"
   ]
  },
  {
   "cell_type": "code",
   "execution_count": 85,
   "metadata": {},
   "outputs": [
    {
     "data": {
      "text/plain": [
       "Counter({'headgear': 1, 'eyewear': 1, 'top': 1})"
      ]
     },
     "execution_count": 85,
     "metadata": {},
     "output_type": "execute_result"
    }
   ],
   "source": [
    "Counter([cat for _,cat in clothes])"
   ]
  },
  {
   "cell_type": "code",
   "execution_count": 89,
   "metadata": {},
   "outputs": [
    {
     "name": "stdout",
     "output_type": "stream",
     "text": [
      "headgear\n",
      "eyewear\n",
      "top\n"
     ]
    }
   ],
   "source": [
    "for _type,_name in clothes:\n",
    "    print(_name)"
   ]
  },
  {
   "cell_type": "code",
   "execution_count": null,
   "metadata": {},
   "outputs": [],
   "source": []
  },
  {
   "cell_type": "code",
   "execution_count": null,
   "metadata": {},
   "outputs": [],
   "source": []
  },
  {
   "cell_type": "code",
   "execution_count": null,
   "metadata": {},
   "outputs": [],
   "source": []
  },
  {
   "cell_type": "code",
   "execution_count": null,
   "metadata": {},
   "outputs": [],
   "source": []
  }
 ],
 "metadata": {
  "kernelspec": {
   "display_name": "Python 3",
   "language": "python",
   "name": "python3"
  },
  "language_info": {
   "codemirror_mode": {
    "name": "ipython",
    "version": 3
   },
   "file_extension": ".py",
   "mimetype": "text/x-python",
   "name": "python",
   "nbconvert_exporter": "python",
   "pygments_lexer": "ipython3",
   "version": "3.7.3"
  }
 },
 "nbformat": 4,
 "nbformat_minor": 2
}
