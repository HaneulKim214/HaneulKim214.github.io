{
 "cells": [
  {
   "cell_type": "markdown",
   "metadata": {},
   "source": [
    "# 해시"
   ]
  },
  {
   "cell_type": "markdown",
   "metadata": {},
   "source": [
    "## 완주하지 못한 선수"
   ]
  },
  {
   "cell_type": "code",
   "execution_count": null,
   "metadata": {},
   "outputs": [],
   "source": [
    "from collections import defaultdict\n",
    "\n",
    "def solution(participant, completion):\n",
    "    hash_table = defaultdict(int)\n",
    "    \n",
    "    for p in participant:\n",
    "        hash_table[p] += 1\n",
    "    \n",
    "    for c in completion:\n",
    "        hash_table[c] -= 1\n",
    "    \n",
    "    for key, value in hash_table.items():\n",
    "        if value > 0:\n",
    "            return key\n",
    "\n",
    "solution([\"leo\", \"kiki\", \"eden\"], [\"eden\", \"kiki\"])"
   ]
  },
  {
   "cell_type": "markdown",
   "metadata": {},
   "source": [
    "### Using hash"
   ]
  },
  {
   "cell_type": "code",
   "execution_count": 6,
   "metadata": {},
   "outputs": [
    {
     "data": {
      "text/plain": [
       "'leo'"
      ]
     },
     "execution_count": 6,
     "metadata": {},
     "output_type": "execute_result"
    }
   ],
   "source": [
    "def solution(participant, completion):\n",
    "    \n",
    "    answer = \"\"\n",
    "    temp = 0\n",
    "    dic = {}\n",
    "    \n",
    "    for p in participant:\n",
    "        dic[hash(p)] = p\n",
    "        temp += int(hash(p))\n",
    "    for c in completion:\n",
    "        temp -= hash(c)\n",
    "        \n",
    "    return dic[temp]\n",
    "\n",
    "solution([\"leo\", \"kiki\", \"eden\"], [\"eden\", \"kiki\"])"
   ]
  },
  {
   "cell_type": "markdown",
   "metadata": {},
   "source": [
    "## 전화번호 목록 (Incomplete)"
   ]
  },
  {
   "cell_type": "code",
   "execution_count": 54,
   "metadata": {},
   "outputs": [],
   "source": [
    "# phone_book = [\"119\", \"97674223\", \"1195524421\"]\n",
    "# phone_book = [\"123\" ,\"456\", \"789\"]\n",
    "\n",
    "phone_book = [\"1\", \"2\", \"3\", \"4\", \"5\", \"0\"]"
   ]
  },
  {
   "cell_type": "code",
   "execution_count": 55,
   "metadata": {},
   "outputs": [],
   "source": [
    "def solution(phone_book):\n",
    "    phone_book.sort(key=len)\n",
    "    print(phone_book)\n",
    "    \n",
    "    for i in range(len(phone_book)):\n",
    "        for j in range(i+1, len(phone_book)):\n",
    "            if phone_book[i] in phone_book[j]:\n",
    "                print(phone_book[i], phone_book[j])\n",
    "                return False\n",
    "    return True"
   ]
  },
  {
   "cell_type": "code",
   "execution_count": 56,
   "metadata": {},
   "outputs": [
    {
     "name": "stdout",
     "output_type": "stream",
     "text": [
      "['1', '2', '3', '4', '5', '0']\n"
     ]
    },
    {
     "data": {
      "text/plain": [
       "True"
      ]
     },
     "execution_count": 56,
     "metadata": {},
     "output_type": "execute_result"
    }
   ],
   "source": [
    "solution(phone_book)"
   ]
  },
  {
   "cell_type": "markdown",
   "metadata": {},
   "source": [
    "## 위장"
   ]
  },
  {
   "cell_type": "code",
   "execution_count": 36,
   "metadata": {},
   "outputs": [],
   "source": [
    "from collections import Counter\n",
    "from functools import reduce\n",
    "\n",
    "\n",
    "def solution(clothes):\n",
    "    numb_per_cat_list = Counter([cat for name,cat in clothes]).values()\n",
    "    \n",
    "    return reduce(lambda X,newX: X * (newX+1), numb_per_cat_list, 1) - 1"
   ]
  },
  {
   "cell_type": "code",
   "execution_count": 37,
   "metadata": {},
   "outputs": [
    {
     "data": {
      "text/plain": [
       "5"
      ]
     },
     "execution_count": 37,
     "metadata": {},
     "output_type": "execute_result"
    }
   ],
   "source": [
    "clothes = [[\"yellow_hat\", \"head\"], [\"blue_sung\", \"eye\"], [\"green_turban\", \"head\"]]\n",
    "solution(clothes)"
   ]
  },
  {
   "cell_type": "code",
   "execution_count": 38,
   "metadata": {},
   "outputs": [],
   "source": [
    "def solution2(clothes):\n",
    "    numb_per_cat_list = Counter([cat for name,cat in clothes]).values()\n",
    "    \n",
    "    answer = 1\n",
    "    for count_per_cat in numb_per_cat_list:\n",
    "        answer *= (count_per_cat+1)\n",
    "    return answer - 1"
   ]
  },
  {
   "cell_type": "code",
   "execution_count": 39,
   "metadata": {},
   "outputs": [
    {
     "data": {
      "text/plain": [
       "5"
      ]
     },
     "execution_count": 39,
     "metadata": {},
     "output_type": "execute_result"
    }
   ],
   "source": [
    "solution(clothes)"
   ]
  },
  {
   "cell_type": "markdown",
   "metadata": {},
   "source": [
    "## 베스트앨범"
   ]
  },
  {
   "cell_type": "code",
   "execution_count": 77,
   "metadata": {},
   "outputs": [],
   "source": [
    "genres = [\"classic\", \"pop\", \"classic\", \"classic\", \"pop\"]\n",
    "plays  = [300, 200, 100, 100, 500]"
   ]
  },
  {
   "cell_type": "code",
   "execution_count": 91,
   "metadata": {},
   "outputs": [],
   "source": [
    "def solution(genres, plays):\n",
    "    answer = []\n",
    "    table = {}\n",
    "    \n",
    "    for idx, (g, p) in enumerate(zip(genres, plays)):\n",
    "    \n",
    "        if g in table:\n",
    "            table[g].append((p, idx))\n",
    "        else:\n",
    "            table[g] = [(p, idx)]\n",
    "    print(table)\n",
    "    rank_dict= sorted(table.items(), key=lambda tup:sum([x[0] for x in tup[1]]), reverse=True)\n",
    "    \n",
    "    print(rank_dict)\n",
    "    \n",
    "    for item in rank_dict:\n",
    "        d = sorted(item[1], key=lambda e:e[0], reverse=True)[:2]\n",
    "        print(d)\n",
    "        for _ in d:\n",
    "            answer.append(_[1])\n",
    "            \n",
    "    return answer"
   ]
  },
  {
   "cell_type": "code",
   "execution_count": 92,
   "metadata": {},
   "outputs": [
    {
     "name": "stdout",
     "output_type": "stream",
     "text": [
      "{'classic': [(300, 0), (100, 2), (100, 3)], 'pop': [(200, 1), (500, 4)]}\n",
      "[('pop', [(200, 1), (500, 4)]), ('classic', [(300, 0), (100, 2), (100, 3)])]\n",
      "[(500, 4), (200, 1)]\n",
      "[(300, 0), (100, 2)]\n"
     ]
    },
    {
     "data": {
      "text/plain": [
       "[4, 1, 0, 2]"
      ]
     },
     "execution_count": 92,
     "metadata": {},
     "output_type": "execute_result"
    }
   ],
   "source": [
    "solution(genres, plays)"
   ]
  },
  {
   "cell_type": "markdown",
   "metadata": {},
   "source": [
    "# DP"
   ]
  },
  {
   "cell_type": "code",
   "execution_count": 94,
   "metadata": {},
   "outputs": [],
   "source": [
    "board = [[0, 0, 0, 0, 0],\n",
    "         [0, 0, 1, 0, 3],\n",
    "         [0, 2, 5, 0, 1],\n",
    "         [4, 2, 4, 4, 2],\n",
    "         [3, 5, 1, 3, 1]]\n",
    "moves = [1, 5, 3, 5, 1, 2, 1, 4]"
   ]
  },
  {
   "cell_type": "code",
   "execution_count": null,
   "metadata": {},
   "outputs": [],
   "source": [
    "def solution(board, moves):\n",
    "    answer = []\n",
    "    stack = []\n",
    "    \n",
    "    \n",
    "    \n",
    "    return answer"
   ]
  },
  {
   "cell_type": "code",
   "execution_count": 100,
   "metadata": {},
   "outputs": [
    {
     "data": {
      "text/plain": [
       "[[0, 0, 0, 0, 0],\n",
       " [0, 0, 1, 0, 3],\n",
       " [0, 2, 5, 0, 1],\n",
       " [4, 2, 4, 4, 2],\n",
       " [3, 5, 1, 3, 1]]"
      ]
     },
     "execution_count": 100,
     "metadata": {},
     "output_type": "execute_result"
    }
   ],
   "source": [
    "board"
   ]
  },
  {
   "cell_type": "code",
   "execution_count": null,
   "metadata": {},
   "outputs": [],
   "source": []
  },
  {
   "cell_type": "code",
   "execution_count": null,
   "metadata": {},
   "outputs": [],
   "source": []
  },
  {
   "cell_type": "markdown",
   "metadata": {},
   "source": [
    "# Level 1 Questions"
   ]
  },
  {
   "cell_type": "markdown",
   "metadata": {},
   "source": [
    "## 크레인 인형뽑기 게임"
   ]
  },
  {
   "cell_type": "markdown",
   "metadata": {},
   "source": [
    "## 키패드 누르기 "
   ]
  },
  {
   "cell_type": "code",
   "execution_count": 23,
   "metadata": {},
   "outputs": [],
   "source": [
    "def solution(numbers, hand):\n",
    "    # -1 = *, -2 = #\n",
    "    answer = ''\n",
    "    d = {\"l\":{1:{2:1, 5:2, 8:3, 0:4},\n",
    "              4:{2:2, 5:1, 8:2, 0:3},\n",
    "              7:{2:3, 5:2, 8:1, 0:2},\n",
    "              \"*\":{2:4, 5:3, 8:2, 0:1},\n",
    "              2:{2:0, 5:1, 8:2, 0:3},\n",
    "              5:{2:1, 5:0, 8:1, 0:2},\n",
    "              8:{2:2, 5:1, 8:0, 0:1},\n",
    "              0:{2:3, 5:2, 8:1, 0:0}},\n",
    "         \"r\":{3:{2:1, 5:2, 8:3, 0:4},\n",
    "              6:{2:2, 5:1, 8:2, 0:3},\n",
    "              9:{2:3, 5:2, 8:1, 0:2},\n",
    "              \"#\":{2:4, 5:3, 8:2, 0:1},\n",
    "               2:{2:0, 5:1, 8:2, 0:3},\n",
    "              5:{2:1, 5:0, 8:1, 0:2},\n",
    "              8:{2:2, 5:1, 8:0, 0:1},\n",
    "              0:{2:3, 5:2, 8:1, 0:0}}\n",
    "        }\n",
    "    left_curr_pos  = \"*\"\n",
    "    right_curr_pos  = \"#\"\n",
    "    for n in numbers:   \n",
    "        if n in [1,4,7]:\n",
    "            answer += \"L\"\n",
    "            left_curr_pos = n\n",
    "        elif n in [3,6,9]:\n",
    "            answer += \"R\"\n",
    "            right_curr_pos = n\n",
    "        # 중간 키패드\n",
    "        else:\n",
    "            if d[\"l\"][left_curr_pos][n] < d[\"r\"][right_curr_pos][n]:\n",
    "                answer += \"L\"\n",
    "                left_curr_pos = n\n",
    "            elif d[\"l\"][left_curr_pos][n] > d[\"r\"][right_curr_pos][n]:\n",
    "                answer += \"R\"\n",
    "                right_curr_pos = n\n",
    "            else:\n",
    "                if hand == \"right\":\n",
    "                    answer += \"R\"\n",
    "                    right_curr_pos = n\n",
    "                else:\n",
    "                    answer += \"L\"\n",
    "                    left_curr_pos = n\n",
    "    return answer"
   ]
  },
  {
   "cell_type": "markdown",
   "metadata": {},
   "source": [
    "## 실패율"
   ]
  },
  {
   "cell_type": "markdown",
   "metadata": {},
   "source": [
    "런타임 에러..."
   ]
  },
  {
   "cell_type": "code",
   "execution_count": 58,
   "metadata": {},
   "outputs": [],
   "source": [
    "def solution(N, stages):\n",
    "    d = {}\n",
    "    num_users = len(stages)\n",
    "    for stage in range(1, N+1):\n",
    "        numerator = stages.count(stage)\n",
    "        denominator = num_users\n",
    "        d[stage] = numerator/denominator\n",
    "        num_users -= numerator\n",
    "        \n",
    "    fail_ratios = [tup[0] for tup in sorted(d.items(), key=lambda item: item[1], reverse=True)]\n",
    "    return fail_ratios"
   ]
  },
  {
   "cell_type": "code",
   "execution_count": 59,
   "metadata": {},
   "outputs": [
    {
     "data": {
      "text/plain": [
       "[3, 4, 2, 1, 5]"
      ]
     },
     "execution_count": 59,
     "metadata": {},
     "output_type": "execute_result"
    }
   ],
   "source": [
    "solution(5, [2,1,2,6,2,4,3,3])"
   ]
  },
  {
   "cell_type": "markdown",
   "metadata": {},
   "source": [
    "# 카카오 2020 블라인드 코딩 1차"
   ]
  },
  {
   "cell_type": "markdown",
   "metadata": {},
   "source": [
    "## 문자열 압축"
   ]
  },
  {
   "cell_type": "markdown",
   "metadata": {},
   "source": [
    "1. n단위로 짜를때 처음에 짤린 게 바로 다음에 또 없다면 바로 다음 n+1 단위로 넘어간다\n",
    "2. 1단계를 통과할경우 n단위로 겹칠수 있는게 몇개있는지 파악.\n",
    "3. 2단계가 끝나면 다시 그 시점부터 n단위로 겹칠수 있는게 있는지 파악."
   ]
  },
  {
   "cell_type": "code",
   "execution_count": 131,
   "metadata": {},
   "outputs": [
    {
     "data": {
      "text/plain": [
       "9"
      ]
     },
     "execution_count": 131,
     "metadata": {},
     "output_type": "execute_result"
    }
   ],
   "source": [
    "def solution(s):\n",
    "    results = len(s) # 1단위로 짤릴경우\n",
    "    \n",
    "    for unit in range(1, len(s)+1):\n",
    "        new_s = \"\"\n",
    "        cnt = 1\n",
    "        \n",
    "        \n",
    "        for i in range(unit, len(s)+unit, unit):\n",
    "            # print(f\"unit = {unit} cnt = {cnt}, {s[i-unit:i]}, {s[i:i+unit]}\")\n",
    "        \n",
    "            if (s[i-unit:i] != s[i:i+unit]) and cnt == 1:\n",
    "                new_s += s[i-unit:i]\n",
    "                \n",
    "            elif (s[i-unit:i] != s[i:i+unit]) and cnt > 1:\n",
    "                new_s += str(cnt) + s[i-unit:i]\n",
    "                cnt = 1\n",
    "\n",
    "            elif s[i-unit:i] == s[i:i+unit]:\n",
    "                cnt += 1\n",
    "    \n",
    "        if len(new_s) < results:\n",
    "            results = len(new_s)\n",
    "    return results"
   ]
  },
  {
   "cell_type": "code",
   "execution_count": 133,
   "metadata": {},
   "outputs": [],
   "source": [
    "s = \"aabbaccc\""
   ]
  },
  {
   "cell_type": "markdown",
   "metadata": {},
   "source": [
    "## 괄호 변환"
   ]
  },
  {
   "cell_type": "code",
   "execution_count": 5,
   "metadata": {},
   "outputs": [],
   "source": [
    "def Split(p):\n",
    "    # u must be 균형잡힌 괄호 문자열 + 더이상 분리 x\n",
    "    open_count = 0\n",
    "    close_count = 0\n",
    "    for i in range(len(p)):\n",
    "        if p[i] == \"(\":\n",
    "            open_count += 1\n",
    "        elif p[i] == \")\":\n",
    "            close_count += 1\n",
    "        \n",
    "        if open_count == close_count:\n",
    "            return p[:i+1], p[i+1:] \n",
    "\n",
    "def IsValid(u):\n",
    "    \"\"\" Return True if 올바른 괄호 문자열 Else False\"\"\"\n",
    "    # u 가 열린만큼 닫혀야 한다. 닫히는게 많아지는 순간 False\n",
    "    open_count = 0\n",
    "    close_count = 0\n",
    "    isvalid = True\n",
    "    for i in range(len(u)):\n",
    "        if u[i] == \"(\":\n",
    "            open_count += 1 \n",
    "        elif u[i] == \")\":\n",
    "            close_count += 1\n",
    "        if open_count < close_count:\n",
    "            return False\n",
    "    return True\n",
    "\n",
    "def solution(p):\n",
    "    if p == \"\":\n",
    "        return \"\"\n",
    "    u, v = Split(p)\n",
    "\n",
    "    # 3. \n",
    "    # 3.1 \n",
    "    if IsValid(u):\n",
    "        return u + solution(v)\n",
    "    \n",
    "    # 4.\n",
    "    else:\n",
    "        answer = \"(\"\n",
    "        answer += solution(v)\n",
    "        answer += \")\"\n",
    "        \n",
    "        cut_u = u[1:-1]\n",
    "        for i in range(len(cut_u)):\n",
    "            if cut_u[i] == \"(\":\n",
    "                answer += \")\"\n",
    "            else:\n",
    "                answer += \"(\"\n",
    "        return answer"
   ]
  },
  {
   "cell_type": "markdown",
   "metadata": {},
   "source": [
    "## 자물쇠와 열쇠"
   ]
  },
  {
   "cell_type": "code",
   "execution_count": 23,
   "metadata": {},
   "outputs": [],
   "source": [
    "key  = [[0,0,0], [1,0,0], [0,1,1]]\n",
    "lock = [[1,0,0], [1,0,0], [0,1,1]]"
   ]
  },
  {
   "cell_type": "code",
   "execution_count": 24,
   "metadata": {},
   "outputs": [
    {
     "data": {
      "text/plain": [
       "False"
      ]
     },
     "execution_count": 24,
     "metadata": {},
     "output_type": "execute_result"
    }
   ],
   "source": []
  },
  {
   "cell_type": "code",
   "execution_count": 20,
   "metadata": {},
   "outputs": [
    {
     "data": {
      "text/plain": [
       "[[0, 0, 0], [1, 0, 0], [0, 1, 1]]"
      ]
     },
     "execution_count": 20,
     "metadata": {},
     "output_type": "execute_result"
    }
   ],
   "source": [
    "# rotate\n",
    "# [[0,1,0], [1,0,0], [1,0,0]]\n"
   ]
  },
  {
   "cell_type": "code",
   "execution_count": 16,
   "metadata": {},
   "outputs": [],
   "source": [
    "# move right\n",
    "\n"
   ]
  },
  {
   "cell_type": "markdown",
   "metadata": {},
   "source": [
    "## 가사 검색"
   ]
  },
  {
   "cell_type": "markdown",
   "metadata": {},
   "source": [
    "## 기둥과 보 설치"
   ]
  },
  {
   "cell_type": "markdown",
   "metadata": {},
   "source": [
    "## 외벽 점검"
   ]
  },
  {
   "cell_type": "markdown",
   "metadata": {},
   "source": [
    "## 블록 이동하기"
   ]
  },
  {
   "cell_type": "code",
   "execution_count": 34,
   "metadata": {},
   "outputs": [],
   "source": [
    "s = \"Mississipi\""
   ]
  },
  {
   "cell_type": "code",
   "execution_count": 51,
   "metadata": {},
   "outputs": [
    {
     "name": "stdout",
     "output_type": "stream",
     "text": [
      "[('I', 4), ('S', 4), ('M', 1), ('P', 1)]\n"
     ]
    }
   ],
   "source": [
    "from collections import Counter \n",
    "\n",
    "s = s.upper()\n",
    "count_dict  = sorted(Counter(s).items(), key=lambda item:item[1], reverse=True)\n",
    "\n",
    "desc_value_list = count_dict.values()\n",
    "\n",
    "if desc_value_list.count(max(desc_value_list)) >= 2:\n",
    "    print(\"?\")\n",
    "else:\n",
    "    print(count_dict[0][0])\n"
   ]
  },
  {
   "cell_type": "code",
   "execution_count": 61,
   "metadata": {},
   "outputs": [],
   "source": [
    "import re"
   ]
  },
  {
   "cell_type": "code",
   "execution_count": 78,
   "metadata": {},
   "outputs": [],
   "source": [
    "s = \"Mississipi\"\n",
    "s = s.upper()\n",
    "\n",
    "t = []\n",
    "\n",
    "for i in set(s):\n",
    "    t.append(s.count(i))"
   ]
  },
  {
   "cell_type": "code",
   "execution_count": 41,
   "metadata": {},
   "outputs": [
    {
     "data": {
      "text/plain": [
       "4"
      ]
     },
     "execution_count": 41,
     "metadata": {},
     "output_type": "execute_result"
    }
   ],
   "source": [
    "max(Counter(s).values())"
   ]
  },
  {
   "cell_type": "code",
   "execution_count": 42,
   "metadata": {},
   "outputs": [],
   "source": [
    "lst = [1,4,4,1]"
   ]
  },
  {
   "cell_type": "code",
   "execution_count": 44,
   "metadata": {},
   "outputs": [
    {
     "data": {
      "text/plain": [
       "2"
      ]
     },
     "execution_count": 44,
     "metadata": {},
     "output_type": "execute_result"
    }
   ],
   "source": [
    "lst.count(max(lst))"
   ]
  },
  {
   "cell_type": "code",
   "execution_count": 30,
   "metadata": {},
   "outputs": [
    {
     "name": "stdout",
     "output_type": "stream",
     "text": [
      "5\n",
      "*\n",
      "**\n",
      "***\n",
      "****\n",
      "*****\n"
     ]
    }
   ],
   "source": [
    "n = input()\n",
    "\n",
    "for i in range(1, int(n) + 1):\n",
    "    print(\"*\"*i)"
   ]
  },
  {
   "cell_type": "code",
   "execution_count": null,
   "metadata": {},
   "outputs": [],
   "source": []
  }
 ],
 "metadata": {
  "kernelspec": {
   "display_name": "Python 3",
   "language": "python",
   "name": "python3"
  },
  "language_info": {
   "codemirror_mode": {
    "name": "ipython",
    "version": 3
   },
   "file_extension": ".py",
   "mimetype": "text/x-python",
   "name": "python",
   "nbconvert_exporter": "python",
   "pygments_lexer": "ipython3",
   "version": "3.7.4"
  },
  "toc": {
   "base_numbering": 1,
   "nav_menu": {},
   "number_sections": true,
   "sideBar": true,
   "skip_h1_title": false,
   "title_cell": "Table of Contents",
   "title_sidebar": "Contents",
   "toc_cell": false,
   "toc_position": {
    "height": "calc(100% - 180px)",
    "left": "10px",
    "top": "150px",
    "width": "165px"
   },
   "toc_section_display": true,
   "toc_window_display": false
  }
 },
 "nbformat": 4,
 "nbformat_minor": 2
}
