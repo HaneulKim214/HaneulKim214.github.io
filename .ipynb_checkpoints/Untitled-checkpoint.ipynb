{
 "cells": [
  {
   "cell_type": "markdown",
   "metadata": {},
   "source": [
    "### #3 단어변환"
   ]
  },
  {
   "cell_type": "code",
   "execution_count": null,
   "metadata": {},
   "outputs": [],
   "source": [
    "queue = []"
   ]
  },
  {
   "cell_type": "code",
   "execution_count": 1,
   "metadata": {},
   "outputs": [],
   "source": [
    "def solution(begin, target, words):\n",
    "    answer = 0\n",
    "    \n",
    "    \n",
    "    \n",
    "    if target not in words:\n",
    "        return 0\n",
    "    return answer"
   ]
  },
  {
   "cell_type": "code",
   "execution_count": null,
   "metadata": {},
   "outputs": [],
   "source": [
    "solution(\"hit\", \"cog\", [\"hot\", \"dot\", \"dog\", \"lot\", \"log\", \"cog\"])"
   ]
  },
  {
   "cell_type": "code",
   "execution_count": 5,
   "metadata": {},
   "outputs": [],
   "source": [
    "\n",
    "def dfs(now, target, words, history=[], depth=0):\n",
    "    global min_\n",
    "    print(now, history)\n",
    "    if now == target:\n",
    "        min_ = min(min_, depth)\n",
    "\n",
    "    if depth >= min_:\n",
    "        return \"Uh on\"\n",
    "\n",
    "    for word in words:\n",
    "        if word in history:\n",
    "            continue\n",
    "        cnt = 0\n",
    "        for i in range(len(target)):\n",
    "            if word[i] != now[i]:\n",
    "                cnt += 1\n",
    "            if cnt > 1:\n",
    "                break\n",
    "        if cnt == 1 and word not in history:\n",
    "            history.append(word)\n",
    "            dfs(word, target, words, history, depth+1)\n",
    "            history.pop(-1)\n",
    "\n",
    "min_ = 51\n",
    "def solution(begin, target, words):\n",
    "    global min_\n",
    "    if target not in words:\n",
    "        return 0\n",
    "    dfs(begin, target, words)\n",
    "    return min_\n",
    "    "
   ]
  },
  {
   "cell_type": "code",
   "execution_count": 6,
   "metadata": {},
   "outputs": [
    {
     "name": "stdout",
     "output_type": "stream",
     "text": [
      "hit []\n",
      "hot ['hot']\n",
      "dot ['hot', 'dot']\n",
      "dog ['hot', 'dot', 'dog']\n",
      "log ['hot', 'dot', 'dog', 'log']\n",
      "lot ['hot', 'dot', 'dog', 'log', 'lot']\n",
      "cog ['hot', 'dot', 'dog', 'log', 'cog']\n",
      "cog ['hot', 'dot', 'dog', 'cog']\n",
      "lot ['hot', 'dot', 'lot']\n",
      "log ['hot', 'dot', 'lot', 'log']\n",
      "lot ['hot', 'lot']\n",
      "dot ['hot', 'lot', 'dot']\n",
      "dog ['hot', 'lot', 'dot', 'dog']\n",
      "log ['hot', 'lot', 'log']\n",
      "dog ['hot', 'lot', 'log', 'dog']\n",
      "cog ['hot', 'lot', 'log', 'cog']\n"
     ]
    },
    {
     "data": {
      "text/plain": [
       "4"
      ]
     },
     "execution_count": 6,
     "metadata": {},
     "output_type": "execute_result"
    }
   ],
   "source": [
    "solution(\"hit\", \"cog\", [\"hot\", \"dot\", \"dog\", \"lot\", \"log\", \"cog\"])"
   ]
  }
 ],
 "metadata": {
  "kernelspec": {
   "display_name": "Python 3",
   "language": "python",
   "name": "python3"
  },
  "language_info": {
   "codemirror_mode": {
    "name": "ipython",
    "version": 3
   },
   "file_extension": ".py",
   "mimetype": "text/x-python",
   "name": "python",
   "nbconvert_exporter": "python",
   "pygments_lexer": "ipython3",
   "version": "3.7.3"
  }
 },
 "nbformat": 4,
 "nbformat_minor": 2
}
